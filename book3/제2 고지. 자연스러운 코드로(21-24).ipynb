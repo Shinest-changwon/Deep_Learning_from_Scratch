{
 "cells": [
  {
   "cell_type": "markdown",
   "metadata": {},
   "source": [
    "# 21. 연산자 오버로드(2)\n",
    "\n",
    "- 개선점: ndarray 인스터스 및 수치 데이터와 함께 사용하기\n",
    "- Variable 인스턴스, ndarry 인스턴스, int, float 등도 함께 사용할 수 있게 수정해 봅시다. \n",
    "\n",
    "## 21.1 ndarray와 함께 사용하기\n",
    "\n",
    "- a * np.array(2.0) 코드를 만나면 ndarray 인스턴스를 자동으로 Variable 인스턴스로 변환하기\n",
    "- as_variable 편의 함수를 만들어서 인수로 주어진 객체를 Variable 인스턴스로 변환해 주는 함수 구현하기"
   ]
  },
  {
   "cell_type": "code",
   "execution_count": 1,
   "metadata": {},
   "outputs": [],
   "source": [
    "def as_variable(obj):\n",
    "    if isinstance(obj, Variable):    # 인수 obj가 Variable 인스턴스면 그대로 반환\n",
    "        return obj\n",
    "    return Variable(obj)   # 그렇지 않으면 Variable 인스턴스로 변환하여 반환"
   ]
  },
  {
   "cell_type": "code",
   "execution_count": 2,
   "metadata": {},
   "outputs": [],
   "source": [
    "class Function: # DeZero에서 사용하는 모든 함수(연산)은 Function 클래스를 상속하므로 실제 연산은 Function __call__메서드에서 이뤄짐\n",
    "    def __call__(self, *inputs):   # 따라서 __call__메서드에 가한 수정은 DeZero에서 사용하는 모든 함수에 적용됨\n",
    "        inputs = [as_variable(x) for x in inputs]   # 인수 inputs에 담긴 각각의 원소 x를 Variable 인스턴스로 변환\n",
    "\n",
    "        xs = [x.data for x in inputs]\n",
    "        ys = self.forward(*xs)"
   ]
  },
  {
   "cell_type": "code",
   "execution_count": 5,
   "metadata": {},
   "outputs": [
    {
     "name": "stdout",
     "output_type": "stream",
     "text": [
      "variable(5.0)\n"
     ]
    }
   ],
   "source": [
    "x = Variable(np.array(2.0))    # ndarray 인스턴스가 Variable 인스턴스로 자동 변환 됨 \n",
    "y = x + np.array(3.0)          # 이제 ndarray와 Variable 함께 사용할 수 있게 됨\n",
    "print(y)"
   ]
  },
  {
   "cell_type": "markdown",
   "metadata": {},
   "source": [
    "## 21.2 float, int와 함께 사용하기\n",
    "\n",
    "- 파이썬의 float와 int, 그리고 np.float64과 np.int64 같은 타입과도 함께 사용할 수 있도록 하겠습니다. \n",
    "- x가 Variable 인스턴스일 때, x + 3.0 같은 코드를 실행할 수 있도록 하려면 어떻게 해야 할까요?"
   ]
  },
  {
   "cell_type": "code",
   "execution_count": 6,
   "metadata": {},
   "outputs": [],
   "source": [
    "def add(x0, x1):\n",
    "    x1 = as_array(x1)      # x1이 float나 int일 경우, ndarray 인스턴스로 변환 \n",
    "    return Add()(x0, x1)   # 이후 ndarray 인스턴스는 Function 클래스에서 Variable 인스턴스로 변환"
   ]
  },
  {
   "cell_type": "code",
   "execution_count": 7,
   "metadata": {},
   "outputs": [
    {
     "name": "stdout",
     "output_type": "stream",
     "text": [
      "variable(5.0)\n"
     ]
    }
   ],
   "source": [
    "x = Variable(np.array(2.0))\n",
    "y = x + np.array(3.0)\n",
    "print(y)"
   ]
  },
  {
   "cell_type": "markdown",
   "metadata": {},
   "source": [
    "- 이와 같이 float와 Variable 인스턴스를 조합한 계산이 가능해짐\n",
    "- add 함수 외에도 mul 같은 다른 함수도 같은 방식으로 수정할 수 있음\n",
    "- 수정하고 나면 +나 *로 Variable 인스턴스, float, int를 조합하여 계산할 수 있음\n",
    "- 지금의 방식에는 두 가지 문제가 남아 있음"
   ]
  },
  {
   "cell_type": "markdown",
   "metadata": {},
   "source": [
    "## 21.3 문제점 1: 첫번째 인수가 float나 int인 경우\n",
    "\n",
    "- 현재 DeZero는 x * 2.0을 제대로 실행할 수 있지만 2.0 * x 실행하면 오류가 납니다. \n",
    "    - 연산자 왼쪽에 있는 2.0의 \\_\\_mul\\_\\_ 메서드를 호출하려 시도한다\n",
    "    - 하지만 2.0은 float 타입이므로 \\_\\_mul\\_\\_ 메서드는 구현되어 있지 않다. \n",
    "    - 다음은 * 연산자 오른쪽에 있는 x의 특수 메서드를 호출하려 시도한다\n",
    "    - x가 오른쪽에 있기 때문에 (\\_\\_mul\\_\\_ 메서드 대신) \\_\\_rmul\\_\\_ 메서드를 호출하려 시도한다.\n",
    "    - 하지만 Variable 인스턴스에는 \\_\\_rmul\\_\\_ 메서드가 구현되어 있지 않다. \n",
    "- 핵심은 * 같은 이항 연산자의 경우 피연산자(항)의 위치에 따라 호출되는 특수 메서드가 다르다는 것입니다. \n",
    "    - 곱셉의 경우 피연산자가 좌항이면 \\_\\_mul\\_\\_ 메서드가 호출되고, 우항이면 \\_\\_rmul\\_\\_ 메서드가 호출됩니다. \n",
    "- 따라서 이번 문제는 \\_\\_rmul\\_\\_ 메서드를 구현하면  해결됩니다. \n",
    "    - 이 때 \\_\\_rmul\\_\\_ 메서드의 인수는 아래처럼 전달됩니다. \n",
    "    \n",
    "![title](./image/그림21-1.png)\n",
    "\n",
    "- 위 그림과 같이 \\_\\_rmul\\_\\_(self, other)의 인수 중 self는 자신인 x에 대응하고, other는 다른 쪽 항이 2.0에 대응합니다. \n",
    "- 곱셈에서는 좌항과 우항을 바꿔도 결과가 같기 때문에 둘을 구별할 필요가 없습니다. \n",
    "- 덧셉도 마찬가지이므로 +와 $*$의 특수 메서드는 아래처럼 설정하면 됩니다. "
   ]
  },
  {
   "cell_type": "code",
   "execution_count": 9,
   "metadata": {},
   "outputs": [],
   "source": [
    "Variable.__add__ = add\n",
    "Variable.__radd__ = add\n",
    "Variable.__mul__ = mul\n",
    "Variable.__rmul__ = mul"
   ]
  },
  {
   "cell_type": "code",
   "execution_count": 10,
   "metadata": {},
   "outputs": [
    {
     "name": "stdout",
     "output_type": "stream",
     "text": [
      "variable(7.0)\n"
     ]
    }
   ],
   "source": [
    "x = Variable(np.array(2.0)) # 이제 Variable 인스턴스와 float, int를 함께 사용할 수 있습니다. \n",
    "y = 3.0 * x + 1.0\n",
    "print(y)"
   ]
  },
  {
   "cell_type": "markdown",
   "metadata": {},
   "source": [
    "## 21.4 문제점 2: 좌항이 ndarray 인스턴스인 경우\n",
    "\n",
    "- 남은 문제는 ndarray 인스턴스가 좌항이고 Variable 인스턴스가 우항인 경우입니다. "
   ]
  },
  {
   "cell_type": "code",
   "execution_count": 11,
   "metadata": {},
   "outputs": [],
   "source": [
    "x = Variable(np.array(1.0)) # 좌항 ndarray 인스턴스의 __add__ 메서드가 호출되는데, \n",
    "y = np.array([2.0]) + x     # 우항인 Variable 인스턴스의 __radd__ 메서스가 호출되길 원함. "
   ]
  },
  {
   "cell_type": "code",
   "execution_count": 12,
   "metadata": {},
   "outputs": [],
   "source": [
    "# 그러려면 '연산 우선순위'를 지정해야 함. Variable 인스턴스 속성에 __array_priority__를 추가하고 그 값을 큰 정수로 설정함\n",
    "class Variable:               # Variable 인스턴스의 연산자 우선순위를 ndarray 인스턴스 연산자 우선순위보다 높일 수 있다. \n",
    "    __array_priority__ = 200  # 그 결과 좌항이 ndarray 인스턴스라 해도 우항인 Variable 인스턴스의 연산자 메서드가 우선적으로 호출됨"
   ]
  },
  {
   "cell_type": "code",
   "execution_count": 13,
   "metadata": {},
   "outputs": [
    {
     "name": "stdout",
     "output_type": "stream",
     "text": [
      "variable(5.0)\n",
      "variable(5.0)\n",
      "variable(7.0)\n"
     ]
    }
   ],
   "source": [
    "# 21장 전체 코드\n",
    "\n",
    "import weakref\n",
    "import numpy as np\n",
    "import contextlib\n",
    "\n",
    "\n",
    "class Config:\n",
    "    enable_backprop = True\n",
    "\n",
    "\n",
    "@contextlib.contextmanager\n",
    "def using_config(name, value):\n",
    "    old_value = getattr(Config, name)\n",
    "    setattr(Config, name, value)\n",
    "    try:\n",
    "        yield\n",
    "    finally:\n",
    "        setattr(Config, name, old_value)\n",
    "\n",
    "\n",
    "def no_grad():\n",
    "    return using_config('enable_backprop', False)\n",
    "\n",
    "\n",
    "class Variable:\n",
    "    __array_priority__ = 200\n",
    "\n",
    "    def __init__(self, data, name=None):\n",
    "        if data is not None:\n",
    "            if not isinstance(data, np.ndarray):\n",
    "                raise TypeError('{} is not supported'.format(type(data)))\n",
    "\n",
    "        self.data = data\n",
    "        self.name = name\n",
    "        self.grad = None\n",
    "        self.creator = None\n",
    "        self.generation = 0\n",
    "\n",
    "    @property\n",
    "    def shape(self):\n",
    "        return self.data.shape\n",
    "\n",
    "    @property\n",
    "    def ndim(self):\n",
    "        return self.data.ndim\n",
    "\n",
    "    @property\n",
    "    def size(self):\n",
    "        return self.data.size\n",
    "\n",
    "    @property\n",
    "    def dtype(self):\n",
    "        return self.data.dtype\n",
    "\n",
    "    def __len__(self):\n",
    "        return len(self.data)\n",
    "\n",
    "    def __repr__(self):\n",
    "        if self.data is None:\n",
    "            return 'variable(None)'\n",
    "        p = str(self.data).replace('\\n', '\\n' + ' ' * 9)\n",
    "        return 'variable(' + p + ')'\n",
    "\n",
    "    def set_creator(self, func):\n",
    "        self.creator = func\n",
    "        self.generation = func.generation + 1\n",
    "\n",
    "    def cleargrad(self):\n",
    "        self.grad = None\n",
    "\n",
    "    def backward(self, retain_grad=False):\n",
    "        if self.grad is None:\n",
    "            self.grad = np.ones_like(self.data)\n",
    "\n",
    "        funcs = []\n",
    "        seen_set = set()\n",
    "\n",
    "        def add_func(f):\n",
    "            if f not in seen_set:\n",
    "                funcs.append(f)\n",
    "                seen_set.add(f)\n",
    "                funcs.sort(key=lambda x: x.generation)\n",
    "\n",
    "        add_func(self.creator)\n",
    "\n",
    "        while funcs:\n",
    "            f = funcs.pop()\n",
    "            gys = [output().grad for output in f.outputs]  # output is weakref\n",
    "            gxs = f.backward(*gys)\n",
    "            if not isinstance(gxs, tuple):\n",
    "                gxs = (gxs,)\n",
    "\n",
    "            for x, gx in zip(f.inputs, gxs):\n",
    "                if x.grad is None:\n",
    "                    x.grad = gx\n",
    "                else:\n",
    "                    x.grad = x.grad + gx\n",
    "\n",
    "                if x.creator is not None:\n",
    "                    add_func(x.creator)\n",
    "\n",
    "            if not retain_grad:\n",
    "                for y in f.outputs:\n",
    "                    y().grad = None  # y is weakref\n",
    "\n",
    "\n",
    "def as_variable(obj):\n",
    "    if isinstance(obj, Variable):\n",
    "        return obj\n",
    "    return Variable(obj)\n",
    "\n",
    "\n",
    "def as_array(x):\n",
    "    if np.isscalar(x):\n",
    "        return np.array(x)\n",
    "    return x\n",
    "\n",
    "\n",
    "class Function:\n",
    "    def __call__(self, *inputs):\n",
    "        inputs = [as_variable(x) for x in inputs]\n",
    "\n",
    "        xs = [x.data for x in inputs]\n",
    "        ys = self.forward(*xs)\n",
    "        if not isinstance(ys, tuple):\n",
    "            ys = (ys,)\n",
    "        outputs = [Variable(as_array(y)) for y in ys]\n",
    "\n",
    "        if Config.enable_backprop:\n",
    "            self.generation = max([x.generation for x in inputs])\n",
    "            for output in outputs:\n",
    "                output.set_creator(self)\n",
    "            self.inputs = inputs\n",
    "            self.outputs = [weakref.ref(output) for output in outputs]\n",
    "\n",
    "        return outputs if len(outputs) > 1 else outputs[0]\n",
    "\n",
    "    def forward(self, xs):\n",
    "        raise NotImplementedError()\n",
    "\n",
    "    def backward(self, gys):\n",
    "        raise NotImplementedError()\n",
    "\n",
    "\n",
    "class Add(Function):\n",
    "    def forward(self, x0, x1):\n",
    "        y = x0 + x1\n",
    "        return y\n",
    "\n",
    "    def backward(self, gy):\n",
    "        return gy, gy\n",
    "\n",
    "\n",
    "def add(x0, x1):\n",
    "    x1 = as_array(x1)\n",
    "    return Add()(x0, x1)\n",
    "\n",
    "\n",
    "class Mul(Function):\n",
    "    def forward(self, x0, x1):\n",
    "        y = x0 * x1\n",
    "        return y\n",
    "\n",
    "    def backward(self, gy):\n",
    "        x0, x1 = self.inputs[0].data, self.inputs[1].data\n",
    "        return gy * x1, gy * x0\n",
    "\n",
    "\n",
    "def mul(x0, x1):\n",
    "    x1 = as_array(x1)\n",
    "    return Mul()(x0, x1)\n",
    "\n",
    "\n",
    "Variable.__add__ = add\n",
    "Variable.__radd__ = add\n",
    "Variable.__mul__ = mul\n",
    "Variable.__rmul__ = mul\n",
    "\n",
    "x = Variable(np.array(2.0))\n",
    "y = x + np.array(3.0)\n",
    "print(y)\n",
    "\n",
    "y = x + 3.0\n",
    "print(y)\n",
    "\n",
    "y = 3.0 * x + 1.0\n",
    "print(y)"
   ]
  },
  {
   "cell_type": "code",
   "execution_count": null,
   "metadata": {},
   "outputs": [],
   "source": []
  },
  {
   "cell_type": "code",
   "execution_count": null,
   "metadata": {},
   "outputs": [],
   "source": []
  },
  {
   "cell_type": "code",
   "execution_count": null,
   "metadata": {},
   "outputs": [],
   "source": []
  },
  {
   "cell_type": "code",
   "execution_count": null,
   "metadata": {},
   "outputs": [],
   "source": []
  },
  {
   "cell_type": "code",
   "execution_count": null,
   "metadata": {},
   "outputs": [],
   "source": []
  },
  {
   "cell_type": "code",
   "execution_count": null,
   "metadata": {},
   "outputs": [],
   "source": []
  },
  {
   "cell_type": "code",
   "execution_count": null,
   "metadata": {},
   "outputs": [],
   "source": []
  },
  {
   "cell_type": "code",
   "execution_count": null,
   "metadata": {},
   "outputs": [],
   "source": []
  },
  {
   "cell_type": "code",
   "execution_count": null,
   "metadata": {},
   "outputs": [],
   "source": []
  },
  {
   "cell_type": "code",
   "execution_count": null,
   "metadata": {},
   "outputs": [],
   "source": []
  },
  {
   "cell_type": "code",
   "execution_count": null,
   "metadata": {},
   "outputs": [],
   "source": []
  },
  {
   "cell_type": "code",
   "execution_count": null,
   "metadata": {},
   "outputs": [],
   "source": []
  },
  {
   "cell_type": "code",
   "execution_count": null,
   "metadata": {},
   "outputs": [],
   "source": []
  },
  {
   "cell_type": "code",
   "execution_count": null,
   "metadata": {},
   "outputs": [],
   "source": []
  },
  {
   "cell_type": "code",
   "execution_count": null,
   "metadata": {},
   "outputs": [],
   "source": []
  },
  {
   "cell_type": "code",
   "execution_count": null,
   "metadata": {},
   "outputs": [],
   "source": []
  },
  {
   "cell_type": "code",
   "execution_count": null,
   "metadata": {},
   "outputs": [],
   "source": []
  },
  {
   "cell_type": "code",
   "execution_count": null,
   "metadata": {},
   "outputs": [],
   "source": []
  }
 ],
 "metadata": {
  "kernelspec": {
   "display_name": "aiffel",
   "language": "python",
   "name": "aiffel"
  },
  "language_info": {
   "codemirror_mode": {
    "name": "ipython",
    "version": 3
   },
   "file_extension": ".py",
   "mimetype": "text/x-python",
   "name": "python",
   "nbconvert_exporter": "python",
   "pygments_lexer": "ipython3",
   "version": "3.7.6"
  }
 },
 "nbformat": 4,
 "nbformat_minor": 4
}
