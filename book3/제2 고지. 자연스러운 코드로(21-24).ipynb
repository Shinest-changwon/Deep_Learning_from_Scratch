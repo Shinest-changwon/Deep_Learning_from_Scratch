{
 "cells": [
  {
   "cell_type": "markdown",
   "metadata": {},
   "source": [
    "# 21. 연산자 오버로드(2)\n",
    "\n",
    "- 개선점: ndarray 인스터스 및 수치 데이터와 함께 사용하기\n",
    "- Variable 인스턴스, ndarry 인스턴스, int, float 등도 함께 사용할 수 있게 수정해 봅시다. \n",
    "\n",
    "## 21.1 ndarray와 함께 사용하기\n",
    "\n",
    "- a * np.array(2.0) 코드를 만나면 ndarray 인스턴스를 자동으로 Variable 인스턴스로 변환하기\n",
    "- as_variable 편의 함수를 만들어서 인수로 주어진 객체를 Variable 인스턴스로 변환해 주는 함수 구현하기"
   ]
  },
  {
   "cell_type": "code",
   "execution_count": 1,
   "metadata": {},
   "outputs": [],
   "source": [
    "def as_variable(obj):\n",
    "    if isinstance(obj, Variable):    # 인수 obj가 Variable 인스턴스면 그대로 반환\n",
    "        return obj\n",
    "    return Variable(obj)   # 그렇지 않으면 Variable 인스턴스로 변환하여 반환"
   ]
  },
  {
   "cell_type": "code",
   "execution_count": 2,
   "metadata": {},
   "outputs": [],
   "source": [
    "class Function: # DeZero에서 사용하는 모든 함수(연산)은 Function 클래스를 상속하므로 실제 연산은 Function __call__메서드에서 이뤄짐\n",
    "    def __call__(self, *inputs):   # 따라서 __call__메서드에 가한 수정은 DeZero에서 사용하는 모든 함수에 적용됨\n",
    "        inputs = [as_variable(x) for x in inputs]   # 인수 inputs에 담긴 각각의 원소 x를 Variable 인스턴스로 변환\n",
    "\n",
    "        xs = [x.data for x in inputs]\n",
    "        ys = self.forward(*xs)"
   ]
  },
  {
   "cell_type": "code",
   "execution_count": 5,
   "metadata": {},
   "outputs": [
    {
     "name": "stdout",
     "output_type": "stream",
     "text": [
      "variable(5.0)\n"
     ]
    }
   ],
   "source": [
    "x = Variable(np.array(2.0))    # ndarray 인스턴스가 Variable 인스턴스로 자동 변환 됨 \n",
    "y = x + np.array(3.0)          # 이제 ndarray와 Variable 함께 사용할 수 있게 됨\n",
    "print(y)"
   ]
  },
  {
   "cell_type": "markdown",
   "metadata": {},
   "source": [
    "## 21.2 float, int와 함께 사용하기\n",
    "\n",
    "- 파이썬의 float와 int, 그리고 np.float64과 np.int64 같은 타입과도 함께 사용할 수 있도록 하겠습니다. \n",
    "- x가 Variable 인스턴스일 때, x + 3.0 같은 코드를 실행할 수 있도록 하려면 어떻게 해야 할까요?"
   ]
  },
  {
   "cell_type": "code",
   "execution_count": 6,
   "metadata": {},
   "outputs": [],
   "source": [
    "def add(x0, x1):\n",
    "    x1 = as_array(x1)      # x1이 float나 int일 경우, ndarray 인스턴스로 변환 \n",
    "    return Add()(x0, x1)   # 이후 ndarray 인스턴스는 Function 클래스에서 Variable 인스턴스로 변환"
   ]
  },
  {
   "cell_type": "code",
   "execution_count": 7,
   "metadata": {},
   "outputs": [
    {
     "name": "stdout",
     "output_type": "stream",
     "text": [
      "variable(5.0)\n"
     ]
    }
   ],
   "source": [
    "x = Variable(np.array(2.0))\n",
    "y = x + np.array(3.0)\n",
    "print(y)"
   ]
  },
  {
   "cell_type": "markdown",
   "metadata": {},
   "source": [
    "- 이와 같이 float와 Variable 인스턴스를 조합한 계산이 가능해짐\n",
    "- add 함수 외에도 mul 같은 다른 함수도 같은 방식으로 수정할 수 있음\n",
    "- 수정하고 나면 +나 *로 Variable 인스턴스, float, int를 조합하여 계산할 수 있음\n",
    "- 지금의 방식에는 두 가지 문제가 남아 있음"
   ]
  },
  {
   "cell_type": "markdown",
   "metadata": {},
   "source": [
    "## 21.3 문제점 1: 첫번째 인수가 float나 int인 경우\n",
    "\n",
    "- 현재 DeZero는 x * 2.0을 제대로 실행할 수 있지만 2.0 * x 실행하면 오류가 납니다. \n",
    "    - 연산자 왼쪽에 있는 2.0의 \\_\\_mul\\_\\_ 메서드를 호출하려 시도한다\n",
    "    - 하지만 2.0은 float 타입이므로 \\_\\_mul\\_\\_ 메서드는 구현되어 있지 않다. \n",
    "    - 다음은 * 연산자 오른쪽에 있는 x의 특수 메서드를 호출하려 시도한다\n",
    "    - x가 오른쪽에 있기 때문에 (\\_\\_mul\\_\\_ 메서드 대신) \\_\\_rmul\\_\\_ 메서드를 호출하려 시도한다.\n",
    "    - 하지만 Variable 인스턴스에는 \\_\\_rmul\\_\\_ 메서드가 구현되어 있지 않다. \n",
    "- 핵심은 * 같은 이항 연산자의 경우 피연산자(항)의 위치에 따라 호출되는 특수 메서드가 다르다는 것입니다. \n",
    "    - 곱셉의 경우 피연산자가 좌항이면 \\_\\_mul\\_\\_ 메서드가 호출되고, 우항이면 \\_\\_rmul\\_\\_ 메서드가 호출됩니다. \n",
    "- 따라서 이번 문제는 \\_\\_rmul\\_\\_ 메서드를 구현하면  해결됩니다. \n",
    "    - 이 때 \\_\\_rmul\\_\\_ 메서드의 인수는 아래처럼 전달됩니다. \n",
    "    \n",
    "![title](./image/그림21-1.png)\n",
    "\n",
    "- 위 그림과 같이 \\_\\_rmul\\_\\_(self, other)의 인수 중 self는 자신인 x에 대응하고, other는 다른 쪽 항이 2.0에 대응합니다. \n",
    "- 곱셈에서는 좌항과 우항을 바꿔도 결과가 같기 때문에 둘을 구별할 필요가 없습니다. \n",
    "- 덧셉도 마찬가지이므로 +와 $*$의 특수 메서드는 아래처럼 설정하면 됩니다. "
   ]
  },
  {
   "cell_type": "code",
   "execution_count": 9,
   "metadata": {},
   "outputs": [],
   "source": [
    "Variable.__add__ = add\n",
    "Variable.__radd__ = add\n",
    "Variable.__mul__ = mul\n",
    "Variable.__rmul__ = mul"
   ]
  },
  {
   "cell_type": "code",
   "execution_count": 10,
   "metadata": {},
   "outputs": [
    {
     "name": "stdout",
     "output_type": "stream",
     "text": [
      "variable(7.0)\n"
     ]
    }
   ],
   "source": [
    "x = Variable(np.array(2.0)) # 이제 Variable 인스턴스와 float, int를 함께 사용할 수 있습니다. \n",
    "y = 3.0 * x + 1.0\n",
    "print(y)"
   ]
  },
  {
   "cell_type": "markdown",
   "metadata": {},
   "source": [
    "## 21.4 문제점 2: 좌항이 ndarray 인스턴스인 경우\n",
    "\n",
    "- 남은 문제는 ndarray 인스턴스가 좌항이고 Variable 인스턴스가 우항인 경우입니다. "
   ]
  },
  {
   "cell_type": "code",
   "execution_count": 11,
   "metadata": {},
   "outputs": [],
   "source": [
    "x = Variable(np.array(1.0)) # 좌항 ndarray 인스턴스의 __add__ 메서드가 호출되는데, \n",
    "y = np.array([2.0]) + x     # 우항인 Variable 인스턴스의 __radd__ 메서스가 호출되길 원함. "
   ]
  },
  {
   "cell_type": "code",
   "execution_count": 12,
   "metadata": {},
   "outputs": [],
   "source": [
    "# 그러려면 '연산 우선순위'를 지정해야 함. Variable 인스턴스 속성에 __array_priority__를 추가하고 그 값을 큰 정수로 설정함\n",
    "class Variable:               # Variable 인스턴스의 연산자 우선순위를 ndarray 인스턴스 연산자 우선순위보다 높일 수 있다. \n",
    "    __array_priority__ = 200  # 그 결과 좌항이 ndarray 인스턴스라 해도 우항인 Variable 인스턴스의 연산자 메서드가 우선적으로 호출됨"
   ]
  },
  {
   "cell_type": "code",
   "execution_count": 13,
   "metadata": {},
   "outputs": [
    {
     "name": "stdout",
     "output_type": "stream",
     "text": [
      "variable(5.0)\n",
      "variable(5.0)\n",
      "variable(7.0)\n"
     ]
    }
   ],
   "source": [
    "# 21장 전체 코드\n",
    "\n",
    "import weakref\n",
    "import numpy as np\n",
    "import contextlib\n",
    "\n",
    "\n",
    "class Config:\n",
    "    enable_backprop = True\n",
    "\n",
    "\n",
    "@contextlib.contextmanager\n",
    "def using_config(name, value):\n",
    "    old_value = getattr(Config, name)\n",
    "    setattr(Config, name, value)\n",
    "    try:\n",
    "        yield\n",
    "    finally:\n",
    "        setattr(Config, name, old_value)\n",
    "\n",
    "\n",
    "def no_grad():\n",
    "    return using_config('enable_backprop', False)\n",
    "\n",
    "\n",
    "class Variable:\n",
    "    __array_priority__ = 200\n",
    "\n",
    "    def __init__(self, data, name=None):\n",
    "        if data is not None:\n",
    "            if not isinstance(data, np.ndarray):\n",
    "                raise TypeError('{} is not supported'.format(type(data)))\n",
    "\n",
    "        self.data = data\n",
    "        self.name = name\n",
    "        self.grad = None\n",
    "        self.creator = None\n",
    "        self.generation = 0\n",
    "\n",
    "    @property\n",
    "    def shape(self):\n",
    "        return self.data.shape\n",
    "\n",
    "    @property\n",
    "    def ndim(self):\n",
    "        return self.data.ndim\n",
    "\n",
    "    @property\n",
    "    def size(self):\n",
    "        return self.data.size\n",
    "\n",
    "    @property\n",
    "    def dtype(self):\n",
    "        return self.data.dtype\n",
    "\n",
    "    def __len__(self):\n",
    "        return len(self.data)\n",
    "\n",
    "    def __repr__(self):\n",
    "        if self.data is None:\n",
    "            return 'variable(None)'\n",
    "        p = str(self.data).replace('\\n', '\\n' + ' ' * 9)\n",
    "        return 'variable(' + p + ')'\n",
    "\n",
    "    def set_creator(self, func):\n",
    "        self.creator = func\n",
    "        self.generation = func.generation + 1\n",
    "\n",
    "    def cleargrad(self):\n",
    "        self.grad = None\n",
    "\n",
    "    def backward(self, retain_grad=False):\n",
    "        if self.grad is None:\n",
    "            self.grad = np.ones_like(self.data)\n",
    "\n",
    "        funcs = []\n",
    "        seen_set = set()\n",
    "\n",
    "        def add_func(f):\n",
    "            if f not in seen_set:\n",
    "                funcs.append(f)\n",
    "                seen_set.add(f)\n",
    "                funcs.sort(key=lambda x: x.generation)\n",
    "\n",
    "        add_func(self.creator)\n",
    "\n",
    "        while funcs:\n",
    "            f = funcs.pop()\n",
    "            gys = [output().grad for output in f.outputs]  # output is weakref\n",
    "            gxs = f.backward(*gys)\n",
    "            if not isinstance(gxs, tuple):\n",
    "                gxs = (gxs,)\n",
    "\n",
    "            for x, gx in zip(f.inputs, gxs):\n",
    "                if x.grad is None:\n",
    "                    x.grad = gx\n",
    "                else:\n",
    "                    x.grad = x.grad + gx\n",
    "\n",
    "                if x.creator is not None:\n",
    "                    add_func(x.creator)\n",
    "\n",
    "            if not retain_grad:\n",
    "                for y in f.outputs:\n",
    "                    y().grad = None  # y is weakref\n",
    "\n",
    "\n",
    "def as_variable(obj):\n",
    "    if isinstance(obj, Variable):\n",
    "        return obj\n",
    "    return Variable(obj)\n",
    "\n",
    "\n",
    "def as_array(x):\n",
    "    if np.isscalar(x):\n",
    "        return np.array(x)\n",
    "    return x\n",
    "\n",
    "\n",
    "class Function:\n",
    "    def __call__(self, *inputs):\n",
    "        inputs = [as_variable(x) for x in inputs]\n",
    "\n",
    "        xs = [x.data for x in inputs]\n",
    "        ys = self.forward(*xs)\n",
    "        if not isinstance(ys, tuple):\n",
    "            ys = (ys,)\n",
    "        outputs = [Variable(as_array(y)) for y in ys]\n",
    "\n",
    "        if Config.enable_backprop:\n",
    "            self.generation = max([x.generation for x in inputs])\n",
    "            for output in outputs:\n",
    "                output.set_creator(self)\n",
    "            self.inputs = inputs\n",
    "            self.outputs = [weakref.ref(output) for output in outputs]\n",
    "\n",
    "        return outputs if len(outputs) > 1 else outputs[0]\n",
    "\n",
    "    def forward(self, xs):\n",
    "        raise NotImplementedError()\n",
    "\n",
    "    def backward(self, gys):\n",
    "        raise NotImplementedError()\n",
    "\n",
    "\n",
    "class Add(Function):\n",
    "    def forward(self, x0, x1):\n",
    "        y = x0 + x1\n",
    "        return y\n",
    "\n",
    "    def backward(self, gy):\n",
    "        return gy, gy\n",
    "\n",
    "\n",
    "def add(x0, x1):\n",
    "    x1 = as_array(x1)\n",
    "    return Add()(x0, x1)\n",
    "\n",
    "\n",
    "class Mul(Function):\n",
    "    def forward(self, x0, x1):\n",
    "        y = x0 * x1\n",
    "        return y\n",
    "\n",
    "    def backward(self, gy):\n",
    "        x0, x1 = self.inputs[0].data, self.inputs[1].data\n",
    "        return gy * x1, gy * x0\n",
    "\n",
    "\n",
    "def mul(x0, x1):\n",
    "    x1 = as_array(x1)\n",
    "    return Mul()(x0, x1)\n",
    "\n",
    "\n",
    "Variable.__add__ = add\n",
    "Variable.__radd__ = add\n",
    "Variable.__mul__ = mul\n",
    "Variable.__rmul__ = mul\n",
    "\n",
    "x = Variable(np.array(2.0))\n",
    "y = x + np.array(3.0)\n",
    "print(y)\n",
    "\n",
    "y = x + 3.0\n",
    "print(y)\n",
    "\n",
    "y = 3.0 * x + 1.0\n",
    "print(y)"
   ]
  },
  {
   "cell_type": "markdown",
   "metadata": {},
   "source": [
    "# 22. 연산자 오버로드(3)\n",
    "\n",
    "- 이번 단계에서는 아래 연산자들을 새로 추가하겠습니다. \n",
    "\n",
    "![title](image/표22-1.png)\n",
    "\n",
    "- 단항 연산자\n",
    "- 이항 연산자의 경우 우항/좌항 구분\n",
    "- 거듭제곱의 경우 좌항이 Variable 변수임\n",
    "- 새로운 연산자를 추가하는 순서\n",
    "    - Function 클래스를 상속하여 원하는 함수 클래스를 구현합니다. (예: Mul 클래스)\n",
    "    - 파이썬 함수를 사용할 수 있도록 합니다. (예: mul 함수)\n",
    "    - Variable 클래스의 연산자를 오버로드 합니다. (예: Variable, \\_\\_mul\\_\\_=mul)\n",
    "- 이번 단계에서도 똑같은 과정으로 새로운 연산자를 추가합니다. "
   ]
  },
  {
   "cell_type": "markdown",
   "metadata": {},
   "source": [
    "## 22.1 음수(부호 변환)\n",
    "\n",
    "- 음수의 미분은 y = -x 일때, $dy/dx = -1$ 입니다. \n",
    "- 따라서 역전파는 상류(출력 쪽)에서 전해지는 미분에 -1을 곱하여 하류로 흘려보내 주면됩니다. "
   ]
  },
  {
   "cell_type": "code",
   "execution_count": 14,
   "metadata": {},
   "outputs": [],
   "source": [
    "class Neg(Function):\n",
    "    def forward(self, x):\n",
    "        return -x\n",
    "\n",
    "    def backward(self, gy):\n",
    "        return -gy\n",
    "\n",
    "\n",
    "def neg(x):\n",
    "    return Neg()(x)\n",
    "\n",
    "Variable.__neg__ = neg"
   ]
  },
  {
   "cell_type": "markdown",
   "metadata": {},
   "source": [
    "- 위와 같이 Neg 클래스를 구현한 다음, 파이썬 함수로 사용할 수 있도록 neg 함수도 구현합니다. \n",
    "- 그리고 특수 메서드인 \\_\\_neg\\_\\_에 neg를 대입하면 완성입니다. "
   ]
  },
  {
   "cell_type": "code",
   "execution_count": 15,
   "metadata": {},
   "outputs": [
    {
     "name": "stdout",
     "output_type": "stream",
     "text": [
      "variable(-2.0)\n"
     ]
    }
   ],
   "source": [
    "x = Variable(np.array(2.0))\n",
    "y = -x\n",
    "print(y)  # variable(-2.0)"
   ]
  },
  {
   "cell_type": "markdown",
   "metadata": {},
   "source": [
    "## 22.2 뺄셈\n",
    "\n",
    "- 뺄셈의 미분은 $y = x_0 - x_1$ 일 때 $dy/dx_0=1, dy/dx_1=1$ 입니다. \n",
    "- 따라서 역전파는 상류에서 전해지는 미분값에 1을 곱한 값이 $x_0$ 의 미분값이 되며, -1을 곱한 값이 $x_1$의 미분결과가 됩니다. "
   ]
  },
  {
   "cell_type": "code",
   "execution_count": 16,
   "metadata": {},
   "outputs": [],
   "source": [
    "class Sub(Function):\n",
    "    def forward(self, x0, x1):\n",
    "        y = x0 - x1\n",
    "        return y\n",
    "\n",
    "    def backward(self, gy):\n",
    "        return gy, -gy\n",
    "\n",
    "\n",
    "def sub(x0, x1):\n",
    "    x1 = as_array(x1)\n",
    "    return Sub()(x0, x1)\n",
    "\n",
    "Variable.__sub__ = sub"
   ]
  },
  {
   "cell_type": "markdown",
   "metadata": {},
   "source": [
    "- y = 2.0 - x 같은 코드는 제대로 처리되지 않습니다. \n",
    "- x의 \\_\\_rsub\\_\\_메소드가 호출됩니다. \n",
    "- \\_\\_rsub\\_\\_(self, other)가 호출될 때는 우항인 x가 인수 self에 전달됩니다."
   ]
  },
  {
   "cell_type": "code",
   "execution_count": null,
   "metadata": {},
   "outputs": [],
   "source": [
    "def rsub(x0, x1):\n",
    "    x1 = as_array(x1)\n",
    "    return sub(x1, x0)    # x0와 x1의 순서를 바꾼다.\n",
    "\n",
    "Variable.__rsub__ = rsub"
   ]
  },
  {
   "cell_type": "code",
   "execution_count": 19,
   "metadata": {},
   "outputs": [
    {
     "name": "stdout",
     "output_type": "stream",
     "text": [
      "variable(0.0)\n",
      "variable(1.0)\n"
     ]
    }
   ],
   "source": [
    "y1 = 2.0 - x\n",
    "y2 = x - 1.0\n",
    "print(y1)  # variable(0.0)\n",
    "print(y2)  # variable(1.0)"
   ]
  },
  {
   "cell_type": "markdown",
   "metadata": {},
   "source": [
    "## 22.3 나눗셈\n",
    "\n",
    "- 나눗셈의 미분은 $y = x_0/x_1$ 일 때 $dy/dx_0=1/x_1, dy/dx_1=-x_0/(x_1)^2$ 입니다. \n",
    "- 나눗셈도 뺄셈과 마찬가지로 좌/우항 중 어느 것에 적용할지에 다라 적용되는 함수가 다릅니다. "
   ]
  },
  {
   "cell_type": "code",
   "execution_count": 20,
   "metadata": {},
   "outputs": [],
   "source": [
    "class Div(Function):\n",
    "    def forward(self, x0, x1):\n",
    "        y = x0 / x1\n",
    "        return y\n",
    "\n",
    "    def backward(self, gy):\n",
    "        x0, x1 = self.inputs[0].data, self.inputs[1].data\n",
    "        gx0 = gy / x1\n",
    "        gx1 = gy * (-x0 / x1 ** 2)\n",
    "        return gx0, gx1\n",
    "\n",
    "\n",
    "def div(x0, x1):\n",
    "    x1 = as_array(x1)\n",
    "    return Div()(x0, x1)\n",
    "\n",
    "\n",
    "def rdiv(x0, x1):\n",
    "    x1 = as_array(x1)\n",
    "    return div(x1, x0)   # x0와 x1의 순서를 바꾼다.\n",
    "\n",
    "Variable.__truediv__ = div\n",
    "Variable.__rtruediv__ = rdiv"
   ]
  },
  {
   "cell_type": "markdown",
   "metadata": {},
   "source": [
    "## 22.4 거듭제곱\n",
    "\n",
    "- 거듭제곱은 $y = x^c$ 형태로 표현됩니다. 밑이 x이고 지수가 c입니다. \n",
    "- 밑이 x인 경우만 미분하면 $dy/dx=cx^{c-1}$이 됩니다. \n",
    "- 지수 c는 상수로 취급하여 따로 미분 계산하지 않습니다. "
   ]
  },
  {
   "cell_type": "code",
   "execution_count": 21,
   "metadata": {},
   "outputs": [],
   "source": [
    "class Pow(Function):\n",
    "    def __init__(self, c):   # 클래스를 초기화 할 때 지수 c를 제공할 수 있습니다. \n",
    "        self.c = c\n",
    "\n",
    "    def forward(self, x):    # 순전파 메소드에서는 밑에 해당하는 x만 (즉, 하나의 항만) 받게 됩니다. \n",
    "        y = x ** self.c\n",
    "        return y\n",
    "\n",
    "    def backward(self, gy):\n",
    "        x = self.inputs[0].data\n",
    "        c = self.c\n",
    "\n",
    "        gx = c * x ** (c - 1) * gy\n",
    "        return gx\n",
    "\n",
    "\n",
    "def pow(x, c):\n",
    "    return Pow(c)(x)\n",
    "\n",
    "Variable.__pow__ = pow    # 특수 메소드인 __pow__에 함수 pow를 할당합니다. "
   ]
  },
  {
   "cell_type": "markdown",
   "metadata": {},
   "source": [
    "- 이제 $**$ 연산자를 사용하여 거듭 제곱을 계산할 수 있습니다. "
   ]
  },
  {
   "cell_type": "code",
   "execution_count": 24,
   "metadata": {},
   "outputs": [
    {
     "name": "stdout",
     "output_type": "stream",
     "text": [
      "variable(8.0)\n"
     ]
    }
   ],
   "source": [
    "x = Variable(np.array(2.0))\n",
    "y = x ** 3\n",
    "print(y)  # variable(8.0)"
   ]
  },
  {
   "cell_type": "markdown",
   "metadata": {},
   "source": [
    "- 이상으로 목표한 연산자를 모두 추가하여 사칙연산자들을 자유롭게 계산에 활용할 수 있게 되었습니다. \n",
    "- 다음 단계에서 지금까지 성과를 파이썬 패키지로 정리한 다음 DeZero의 실력을 검증해 보겠습니다. "
   ]
  },
  {
   "cell_type": "code",
   "execution_count": 27,
   "metadata": {},
   "outputs": [
    {
     "name": "stdout",
     "output_type": "stream",
     "text": [
      "variable(-2.0)\n",
      "variable(0.0)\n",
      "variable(1.0)\n",
      "variable(1.5)\n",
      "variable(8.0)\n"
     ]
    }
   ],
   "source": [
    "import weakref\n",
    "import numpy as np\n",
    "import contextlib\n",
    "\n",
    "\n",
    "class Config:\n",
    "    enable_backprop = True\n",
    "\n",
    "\n",
    "@contextlib.contextmanager\n",
    "def using_config(name, value):\n",
    "    old_value = getattr(Config, name)\n",
    "    setattr(Config, name, value)\n",
    "    try:\n",
    "        yield\n",
    "    finally:\n",
    "        setattr(Config, name, old_value)\n",
    "\n",
    "\n",
    "def no_grad():\n",
    "    return using_config('enable_backprop', False)\n",
    "\n",
    "\n",
    "class Variable:\n",
    "    __array_priority__ = 200\n",
    "\n",
    "    def __init__(self, data, name=None):\n",
    "        if data is not None:\n",
    "            if not isinstance(data, np.ndarray):\n",
    "                raise TypeError('{} is not supported'.format(type(data)))\n",
    "\n",
    "        self.data = data\n",
    "        self.name = name\n",
    "        self.grad = None\n",
    "        self.creator = None\n",
    "        self.generation = 0\n",
    "\n",
    "    @property\n",
    "    def shape(self):\n",
    "        return self.data.shape\n",
    "\n",
    "    @property\n",
    "    def ndim(self):\n",
    "        return self.data.ndim\n",
    "\n",
    "    @property\n",
    "    def size(self):\n",
    "        return self.data.size\n",
    "\n",
    "    @property\n",
    "    def dtype(self):\n",
    "        return self.data.dtype\n",
    "\n",
    "    def __len__(self):\n",
    "        return len(self.data)\n",
    "\n",
    "    def __repr__(self):\n",
    "        if self.data is None:\n",
    "            return 'variable(None)'\n",
    "        p = str(self.data).replace('\\n', '\\n' + ' ' * 9)\n",
    "        return 'variable(' + p + ')'\n",
    "\n",
    "    def set_creator(self, func):\n",
    "        self.creator = func\n",
    "        self.generation = func.generation + 1\n",
    "\n",
    "    def cleargrad(self):\n",
    "        self.grad = None\n",
    "\n",
    "    def backward(self, retain_grad=False):\n",
    "        if self.grad is None:\n",
    "            self.grad = np.ones_like(self.data)\n",
    "\n",
    "        funcs = []\n",
    "        seen_set = set()\n",
    "\n",
    "        def add_func(f):\n",
    "            if f not in seen_set:\n",
    "                funcs.append(f)\n",
    "                seen_set.add(f)\n",
    "                funcs.sort(key=lambda x: x.generation)\n",
    "\n",
    "        add_func(self.creator)\n",
    "\n",
    "        while funcs:\n",
    "            f = funcs.pop()\n",
    "            gys = [output().grad for output in f.outputs]  # output is weakref\n",
    "            gxs = f.backward(*gys)\n",
    "            if not isinstance(gxs, tuple):\n",
    "                gxs = (gxs,)\n",
    "\n",
    "            for x, gx in zip(f.inputs, gxs):\n",
    "                if x.grad is None:\n",
    "                    x.grad = gx\n",
    "                else:\n",
    "                    x.grad = x.grad + gx\n",
    "\n",
    "                if x.creator is not None:\n",
    "                    add_func(x.creator)\n",
    "\n",
    "            if not retain_grad:\n",
    "                for y in f.outputs:\n",
    "                    y().grad = None  # y is weakref\n",
    "\n",
    "\n",
    "def as_variable(obj):\n",
    "    if isinstance(obj, Variable):\n",
    "        return obj\n",
    "    return Variable(obj)\n",
    "\n",
    "\n",
    "def as_array(x):\n",
    "    if np.isscalar(x):\n",
    "        return np.array(x)\n",
    "    return x\n",
    "\n",
    "\n",
    "class Function:\n",
    "    def __call__(self, *inputs):\n",
    "        inputs = [as_variable(x) for x in inputs]\n",
    "\n",
    "        xs = [x.data for x in inputs]\n",
    "        ys = self.forward(*xs)\n",
    "        if not isinstance(ys, tuple):\n",
    "            ys = (ys,)\n",
    "        outputs = [Variable(as_array(y)) for y in ys]\n",
    "\n",
    "        if Config.enable_backprop:\n",
    "            self.generation = max([x.generation for x in inputs])\n",
    "            for output in outputs:\n",
    "                output.set_creator(self)\n",
    "            self.inputs = inputs\n",
    "            self.outputs = [weakref.ref(output) for output in outputs]\n",
    "\n",
    "        return outputs if len(outputs) > 1 else outputs[0]\n",
    "\n",
    "    def forward(self, xs):\n",
    "        raise NotImplementedError()\n",
    "\n",
    "    def backward(self, gys):\n",
    "        raise NotImplementedError()\n",
    "\n",
    "\n",
    "class Add(Function):\n",
    "    def forward(self, x0, x1):\n",
    "        y = x0 + x1\n",
    "        return y\n",
    "\n",
    "    def backward(self, gy):\n",
    "        return gy, gy\n",
    "\n",
    "\n",
    "def add(x0, x1):\n",
    "    x1 = as_array(x1)\n",
    "    return Add()(x0, x1)\n",
    "\n",
    "\n",
    "class Mul(Function):\n",
    "    def forward(self, x0, x1):\n",
    "        y = x0 * x1\n",
    "        return y\n",
    "\n",
    "    def backward(self, gy):\n",
    "        x0, x1 = self.inputs[0].data, self.inputs[1].data\n",
    "        return gy * x1, gy * x0\n",
    "\n",
    "\n",
    "def mul(x0, x1):\n",
    "    x1 = as_array(x1)\n",
    "    return Mul()(x0, x1)\n",
    "\n",
    "\n",
    "class Neg(Function):\n",
    "    def forward(self, x):\n",
    "        return -x\n",
    "\n",
    "    def backward(self, gy):\n",
    "        return -gy\n",
    "\n",
    "\n",
    "def neg(x):\n",
    "    return Neg()(x)\n",
    "\n",
    "\n",
    "class Sub(Function):\n",
    "    def forward(self, x0, x1):\n",
    "        y = x0 - x1\n",
    "        return y\n",
    "\n",
    "    def backward(self, gy):\n",
    "        return gy, -gy\n",
    "\n",
    "\n",
    "def sub(x0, x1):\n",
    "    x1 = as_array(x1)\n",
    "    return Sub()(x0, x1)\n",
    "\n",
    "\n",
    "def rsub(x0, x1):\n",
    "    x1 = as_array(x1)\n",
    "    return sub(x1, x0)\n",
    "\n",
    "\n",
    "class Div(Function):\n",
    "    def forward(self, x0, x1):\n",
    "        y = x0 / x1\n",
    "        return y\n",
    "\n",
    "    def backward(self, gy):\n",
    "        x0, x1 = self.inputs[0].data, self.inputs[1].data\n",
    "        gx0 = gy / x1\n",
    "        gx1 = gy * (-x0 / x1 ** 2)\n",
    "        return gx0, gx1\n",
    "\n",
    "\n",
    "def div(x0, x1):\n",
    "    x1 = as_array(x1)\n",
    "    return Div()(x0, x1)\n",
    "\n",
    "\n",
    "def rdiv(x0, x1):\n",
    "    x1 = as_array(x1)\n",
    "    return div(x1, x0)\n",
    "\n",
    "\n",
    "class Pow(Function):\n",
    "    def __init__(self, c):\n",
    "        self.c = c\n",
    "\n",
    "    def forward(self, x):\n",
    "        y = x ** self.c\n",
    "        return y\n",
    "\n",
    "    def backward(self, gy):\n",
    "        x = self.inputs[0].data\n",
    "        c = self.c\n",
    "\n",
    "        gx = c * x ** (c - 1) * gy\n",
    "        return gx\n",
    "\n",
    "\n",
    "def pow(x, c):\n",
    "    return Pow(c)(x)\n",
    "\n",
    "\n",
    "Variable.__add__ = add\n",
    "Variable.__radd__ = add\n",
    "Variable.__mul__ = mul\n",
    "Variable.__rmul__ = mul\n",
    "Variable.__neg__ = neg\n",
    "Variable.__sub__ = sub\n",
    "Variable.__rsub__ = rsub\n",
    "Variable.__truediv__ = div\n",
    "Variable.__rtruediv__ = rdiv\n",
    "Variable.__pow__ = pow\n",
    "\n",
    "x = Variable(np.array(2.0))\n",
    "y = -x\n",
    "print(y)  # variable(-2.0)\n",
    "\n",
    "y1 = 2.0 - x\n",
    "y2 = x - 1.0\n",
    "print(y1)  # variable(0.0)\n",
    "print(y2)  # variable(1.0)\n",
    "\n",
    "y = 3.0 / x\n",
    "print(y)  # variable(1.5)\n",
    "\n",
    "y = x ** 3\n",
    "y.backward()\n",
    "print(y)  # variable(8.0)"
   ]
  },
  {
   "cell_type": "markdown",
   "metadata": {},
   "source": [
    "# 23. 패키지로 정리\n",
    "\n",
    "- 이번 단계에서는 지금까지의 성과를 재사용할 수 있도록 패키지로 정리할 생각입니다. \n",
    "- 파이썬에서는 '모듈', '패키지', '라이브러리'라는 용어를 아래 의미로 사용합니다. \n",
    "    - 모듈: 파이썬 파일, 특히 다른 파이썬 프로그램에서 임포트하여 사용하는 것을 가정하고 만들어진 파이썬 파일을 모듈이라고 합니다. \n",
    "    - 패키지: 여러 모듈을 묶은 것. 패키지를 만들려면 먼저 디렉토리를 만들고 그 안에 모듈(파이썬 파일)을 추가합니다. \n",
    "    - 라이브러리: 여러 패키지를 묶은 것. 하나 이상의 디렉토리로 구성됨. 때로는 패키지를 가리켜 라이브러리라고 부르기도 합니다. "
   ]
  },
  {
   "cell_type": "markdown",
   "metadata": {},
   "source": [
    "## 23.1 파일 구성\n",
    "\n",
    "- 지금까지는 각 step 파일에 코드를 작성했습니다. \n",
    "- 이제부터는 이 step 파일 모두에서 DeZero를 이용할 수 있도록 dezero라는 공통의 디렉토리 하나 만들겠습니다. \n",
    "- 최종 파일 구성은 다음과 같습니다. \n",
    "    - dezero\n",
    "        - \\_\\_init\\_\\_.py\n",
    "        - core_simple.py\n",
    "        - ...\n",
    "        - util.py\n",
    "    - step\n",
    "        - step01.py\n",
    "        - step02.py\n",
    "        - ...\n",
    "        - step60.py\n",
    "- 이와 같이 구성한 뒤 dezero 디렉토리에 모듈을 추가하는 것입니다. \n",
    "- 그리하여 dezero라는 패키지가 만들어지는데, 이 패키지가 바로 우리가 만드는 프레임워크입니다. \n",
    "- 앞으로는 주로 dezero 디텔토리에 있는 파일들에 코드를 추가할 것입니다. "
   ]
  },
  {
   "cell_type": "markdown",
   "metadata": {},
   "source": [
    "## 23.2 코어 클래스로 옮기기\n",
    "\n",
    "- dezero 디렉토리에 파일을 추가해보죠.\n",
    "- 목표는 이전 단계의 step22.py 코드를 dezero/core_simple.py라는 코어(core) 파일로 옮기는 것입니다. \n",
    "    - step22.py에 정의된 클래스들을 코어 파일에 복사\n",
    "    - step22.py에 정의된 파이썬 함수들도 코어 파일에 복사\n",
    "    - Exp 클래스와 Sqaure 클래스, exp 함수와 sqaure 함수는 코어 파일에 넣지 않고 나중에 dezero/function.py에 추가합니다. "
   ]
  },
  {
   "cell_type": "code",
   "execution_count": 31,
   "metadata": {},
   "outputs": [
    {
     "name": "stdout",
     "output_type": "stream",
     "text": [
      "variable(1.0)\n"
     ]
    }
   ],
   "source": [
    "import numpy as np\n",
    "from dezero.core_simple import Variable  # 외부의 파이썬 파일에서 다음과 같이 dezero를 임포트 할 수 있습니다. \n",
    "\n",
    "x = Variable(np.array(1.0))\n",
    "print(x)"
   ]
  },
  {
   "cell_type": "markdown",
   "metadata": {},
   "source": [
    "- from ... import ... 구문을 사용하면 모듈 내의 클래스나 함수 등을 직접 임포트 할 수 있습니다. \n",
    "- 또한 import XXX as A 라고 쓰면 XXX 라는 모듈을 A 라는 이름으로 임포트 할 수 있습니다. \n",
    "- 예를 들어 import dezero.core_simple as dz라고 스면 dezero.core_simple 모듈을 dz라는 이름으로 임포트 합니다. \n",
    "- 그런 다음 Variable 클래스를 사용하려면 dz Variable이라고 쓰면 됩니다. "
   ]
  },
  {
   "cell_type": "markdown",
   "metadata": {},
   "source": [
    "## 23.3 연산자 오버로드\n",
    "\n",
    "- 오버로드한 연산자들을 dezero로 옮기겠습니다. \n",
    "- 코어 파일에 다음 함수들을 추가합니다. "
   ]
  },
  {
   "cell_type": "code",
   "execution_count": 32,
   "metadata": {},
   "outputs": [],
   "source": [
    "def setup_variable():        # Variable 연산자들을 오버로드 해주는 함수입니다. 이 함수를 호출하면 Variable의 연산자들이 설정됩니다. \n",
    "    Variable.__add__ = add\n",
    "    Variable.__radd__ = add\n",
    "    Variable.__mul__ = mul\n",
    "    Variable.__rmul__ = mul\n",
    "    Variable.__neg__ = neg\n",
    "    Variable.__sub__ = sub\n",
    "    Variable.__rsub__ = rsub\n",
    "    Variable.__truediv__ = div\n",
    "    Variable.__rtruediv__ = rdiv\n",
    "    Variable.__pow__ = pow"
   ]
  },
  {
   "cell_type": "markdown",
   "metadata": {},
   "source": [
    "- 이 함수는 어디에서 호출하면 좋을까요? 바로 dezero/\\_\\_init\\_\\_.py 파일입니다. \n",
    "- \\_\\_init\\_\\_.py는 모듈을 임포트할 때 가장 먼저 실행되는 파일입니다. \n",
    "- dezero 패키지에 속한 모듈을 임포트할 때 dezero/\\_\\_init\\_\\_.py의 코드가 첫 번째로 호출됩니다. \n",
    "- 그래서 dezero/\\_\\_init\\_\\_.py에 다음 코드를 작성해 넣어야 합니다. "
   ]
  },
  {
   "cell_type": "code",
   "execution_count": null,
   "metadata": {},
   "outputs": [],
   "source": [
    "from dezero.core_simple import Variable\n",
    "from dezero.core_simple import Function\n",
    "from dezero.core_simple import using_config\n",
    "from dezero.core_simple import no_grad\n",
    "from dezero.core_simple import as_array\n",
    "from dezero.core_simple import as_variable\n",
    "from dezero.core_simple import setup_variable\n",
    "\n",
    "setup_variable()"
   ]
  },
  {
   "cell_type": "markdown",
   "metadata": {},
   "source": [
    "- 이와 같이 setup_variable 함수를 임포트해 호출하도록 합니다. \n",
    "- 이렇게 함으로써 dezero 패키지를 이용하는 사용자는 반드시 연산자 오버로드가 이루어진 상태에서 Variable을 사용할 수 있습니다. \n",
    "- 한편 \\_\\_init\\_\\_.py 시작이 from dezero.core_simple import Variable 인데, 이 문장이 실행됨으로써 dezero 패키지에서 Variable 클래스를 곧바로 임포트 할 수 있습니다. \n",
    "- 지금까지 from dezero.core_simple import Variable 작성한 것을 from dezero import Variable 처럼 짧게 줄일 수 있습니다. \n",
    "- 마찬가지로 dezero/\\_\\_init\\_\\_.py의 임포트 덕분에 사용자는 나머지 Function이나 using_config 등도 '간소화된' 임포트를 이용할 수 있게 됩니다. "
   ]
  },
  {
   "cell_type": "code",
   "execution_count": null,
   "metadata": {},
   "outputs": [],
   "source": [
    "# dezero를 이용하는 사용자의 코드\n",
    "\n",
    "# from dezero.core_simple import Variable\n",
    "from dezero import Variable                  # dezero/__init__.py의 임포트 덕분에 위를 아래처럼 짧게 줄일 수 있습니다. "
   ]
  },
  {
   "cell_type": "markdown",
   "metadata": {},
   "source": [
    "## 23.4 실제 __init__.py 파일\n",
    "\n",
    "- 실제 dezero/\\_\\_init\\_\\_.py 에서는 core_simple.py와 core.py 중 하나를 선택해 임포트하도록 작성되어 있습니다. "
   ]
  },
  {
   "cell_type": "code",
   "execution_count": null,
   "metadata": {},
   "outputs": [],
   "source": [
    "# =============================================================================\n",
    "# step23.py부터 step32.py까지는 simple_core를 이용해야 합니다.\n",
    "is_simple_core = False  # True\n",
    "# =============================================================================\n",
    "\n",
    "if is_simple_core:\n",
    "    from dezero.core_simple import Variable\n",
    "    from dezero.core_simple import Function\n",
    "    from dezero.core_simple import using_config\n",
    "    from dezero.core_simple import no_grad\n",
    "    from dezero.core_simple import as_array\n",
    "    from dezero.core_simple import as_variable\n",
    "    from dezero.core_simple import setup_variable\n",
    "\n",
    "else:\n",
    "    from dezero.core import Variable\n",
    "    from dezero.core import Parameter\n",
    "    from dezero.core import Function\n",
    "    from dezero.core import using_config\n",
    "    from dezero.core import no_grad\n",
    "    from dezero.core import test_mode\n",
    "    from dezero.core import as_array\n",
    "    from dezero.core import as_variable\n",
    "    from dezero.core import setup_variable\n",
    "    from dezero.core import Config\n",
    "    from dezero.layers import Layer\n",
    "    from dezero.models import Model\n",
    "    from dezero.datasets import Dataset\n",
    "    from dezero.dataloaders import DataLoader\n",
    "    from dezero.dataloaders import SeqDataLoader\n",
    "\n",
    "    import dezero.datasets\n",
    "    import dezero.dataloaders\n",
    "    import dezero.optimizers\n",
    "    import dezero.functions\n",
    "    import dezero.functions_conv\n",
    "    import dezero.layers\n",
    "    import dezero.utils\n",
    "    import dezero.cuda\n",
    "    import dezero.transforms\n",
    "\n",
    "setup_variable()\n",
    "__version__ = '0.0.13'"
   ]
  },
  {
   "cell_type": "markdown",
   "metadata": {},
   "source": [
    "## 23.5 dezero 임포트하기\n",
    "\n",
    "- 이렇게 하여 dezero라는 패키지가 만들어졌습니다. \n",
    "- 이제 이번 단계용 step23.py는 다음처럼 작성할 수 있습니다. "
   ]
  },
  {
   "cell_type": "code",
   "execution_count": 45,
   "metadata": {},
   "outputs": [
    {
     "name": "stdout",
     "output_type": "stream",
     "text": [
      "variable(16.0)\n",
      "8.0\n"
     ]
    }
   ],
   "source": [
    "# Add import path for the dezero directory.\n",
    "if '__file__' in globals():   # 터미널에서 python 명령으로 실행하면 __file__변수가 정의되어 있음. \n",
    "    import os, sys\n",
    "    sys.path.append(os.path.join(os.path.dirname(__file__), '..')) # 현재 파일의 부모 디렉토리를 모듈 검색 경로에 추가함\n",
    "\n",
    "import numpy as np\n",
    "# from dezero.core_simple import Variable\n",
    "from dezero import Variable\n",
    "\n",
    "\n",
    "x = Variable(np.array(1.0))\n",
    "y = (x + 3) ** 2\n",
    "y.backward()\n",
    "\n",
    "print(y)\n",
    "print(x.grad)"
   ]
  },
  {
   "cell_type": "markdown",
   "metadata": {},
   "source": [
    "# 24. 복잡한 함수의 미분\n",
    "\n",
    "- DeZero는 대표적인 연산자들을 지원합니다. 평소 파이썬 프로그래밍 하듯 코딩할 수 있습니다. \n",
    "- 이 혜택은 복잡한 수식을 코딩할 때 피부로 느껴질 것입니다. \n",
    "- 이번 단계에서는 지금까지 성과를 느낄 수 있는 복잡한 수식의 미분 몇 가지를 풀어보겠습니다. \n",
    "- 이번 단계에서 다루는 함수들을 최적화 문제에서 자주 사용되는 테스트 함수입니다. \n",
    "- 최적화 문제의 테스트 함수란 다양한 최적화 기법이 '얼마나 좋은가'를 평가하는 데 사용되는 함수를 뜻합ㄴ디ㅏ. \n",
    "- 소위 '벤치마크'용 함수라고 할 수 있습니다. \n",
    "- 테스트 함수에도 종류가 많은데, 위키백과의 'Test functions for optimization' 페이지를 보면 대표적인 예를 확인할 수 있습니다. \n",
    "\n",
    "![title](image/그림24-1.png)\n",
    "\n",
    "\n",
    "- 위는 일부만 발췌한 것이며, 우리는 이 중 세 함수를 선택하여 실제로 미분해보려 합니다. \n",
    "- 그러면 DeZero의 실력이 어느 정도인지 알 수 있겠죠.\n",
    "- 우선 Sphere라는 간단한 함수에서 시작하겠습니다. "
   ]
  },
  {
   "cell_type": "markdown",
   "metadata": {},
   "source": [
    "## 24.1 Sphere 함수\n",
    "\n",
    "- Sphere 함수를 수식으로 표현하면 $z = x^2 + y^2$ 입니다. \n",
    "- 우리가 할 일은 그 미분을 계산하는 것입니다. \n",
    "- 아래를 계산해 보면 미분 결과가 잘 나오는 것을 볼 수 있습니다. "
   ]
  },
  {
   "cell_type": "code",
   "execution_count": 53,
   "metadata": {},
   "outputs": [
    {
     "name": "stdout",
     "output_type": "stream",
     "text": [
      "2.0 2.0\n"
     ]
    }
   ],
   "source": [
    "import numpy as np\n",
    "# from dezero.core_simple import Variable\n",
    "from dezero import Variable\n",
    "\n",
    "def sphere(x, y):     # 차원이 x, y, z 뿐인 3차원 공간에서 Sphere 함수입니다. 일반적인 Sphere 함수의 수식은 위의 표에 나와있습니다. \n",
    "    z = x ** 2 + y ** 2    \n",
    "    return z\n",
    "\n",
    "x = Variable(np.array(1.0))\n",
    "y = Variable(np.array(1.0))\n",
    "z = sphere(x, y)  # sphere(x, y) / matyas(x, y)\n",
    "z.backward()\n",
    "print(x.grad, y.grad)"
   ]
  },
  {
   "cell_type": "markdown",
   "metadata": {},
   "source": [
    "## 24.2 matyas 함수\n",
    "\n",
    "- 이어서 matyas('마차시' 라고 읽음) 함수를 살펴보겠습니다. \n",
    "- $ z = 0.26(x^2 + y^2) - 0.48xy $ 이며 아래처럼 구현할 수 있습니다. "
   ]
  },
  {
   "cell_type": "code",
   "execution_count": 54,
   "metadata": {},
   "outputs": [
    {
     "name": "stdout",
     "output_type": "stream",
     "text": [
      "0.040000000000000036 0.040000000000000036\n"
     ]
    }
   ],
   "source": [
    "def matyas(x, y):\n",
    "    z = 0.26 * (x ** 2 + y ** 2) - 0.48 * x * y\n",
    "    return z\n",
    "\n",
    "x = Variable(np.array(1.0))\n",
    "y = Variable(np.array(1.0))\n",
    "z = matyas(x, y)  # sphere(x, y) / matyas(x, y)\n",
    "z.backward()\n",
    "print(x.grad, y.grad)"
   ]
  },
  {
   "cell_type": "markdown",
   "metadata": {},
   "source": [
    "- 수식을 그대로 코드로 옮길 수 있습니다. \n",
    "- 만약 이 연산자들을 사용할 수 없다면 아래와 같이 작성해야 합니다. "
   ]
  },
  {
   "cell_type": "code",
   "execution_count": 57,
   "metadata": {},
   "outputs": [],
   "source": [
    "def matyas(x, y):\n",
    "    z = sub(mul(0.26, add(pow(x, 2), pow(y, 2))), mul(0.48, mul(x, y)))\n",
    "    return z"
   ]
  },
  {
   "cell_type": "markdown",
   "metadata": {},
   "source": [
    "## 24.3 Goldstein_Price 함수\n",
    "\n",
    "- Goldstein_Price 함수를 수식으로 표현하면 다음과 같습니다. (p 198)\n",
    "\n",
    "$ f(x,y) = [1 + (x + y + 1)^2(19 - 14x + 3x^2 - 14y + 6xy + 3y^2)] $\n",
    "$          [30 + (2x - 3y)^2(18 - 32x + 12x^2 + 48y - 36xy + 27y^2)] $"
   ]
  },
  {
   "cell_type": "code",
   "execution_count": 58,
   "metadata": {},
   "outputs": [],
   "source": [
    "def goldstein(x, y):\n",
    "    z = (1 + (x + y + 1)**2 * (19 - 14*x + 3*x**2 - 14*y + 6*x*y + 3*y**2)) * \\\n",
    "        (30 + (2*x - 3*y)**2 * (18 - 32*x + 12*x**2 + 48*y - 36*x*y + 27*y**2))\n",
    "    return z"
   ]
  },
  {
   "cell_type": "markdown",
   "metadata": {},
   "source": [
    "- 수식과 비교해가며 코드로 옮기면 금방 끝날 것입니다. \n",
    "- 반면 이 연산자들을 사용하지 않고 코딩하기란 보통 사람들에게는 불가능할지 모릅니다. \n",
    "- 그럼, 이 함수를 미분해 볼까요?"
   ]
  },
  {
   "cell_type": "code",
   "execution_count": 59,
   "metadata": {},
   "outputs": [
    {
     "name": "stdout",
     "output_type": "stream",
     "text": [
      "-5376.0 8064.0\n"
     ]
    }
   ],
   "source": [
    "x = Variable(np.array(1.0))\n",
    "y = Variable(np.array(1.0))\n",
    "z = goldstein(x, y)  # sphere(x, y) / matyas(x, y)\n",
    "z.backward()\n",
    "print(x.grad, y.grad)"
   ]
  },
  {
   "cell_type": "markdown",
   "metadata": {},
   "source": [
    "- DeZero는 위와 같이 복잡한 계산도 훌륭하게 미분할 수 있습니다. \n",
    "- 또한 이 결과가 맞는지는 기울기 확인으로 검증할 수 있습니다. \n",
    "- 이것으로 두번째 고지도 무사히 정복했습니다. \n",
    "\n",
    "## 제 2고지 정리\n",
    "\n",
    "- 이제 DeZero는 복잡한 계산도 가능하게 되었습니다. \n",
    "- 엄밀히 말하면 아무리 복잡하게 '연결'된 계산 그래프라도 올바르게 역전파 할 수 있습니다. \n",
    "- 또한 연산자를 오버로드한 덕에 보통의 파이썬 프로그래밍처럼 코드를 작성할 수 있습니다. \n",
    "- 일반적인 파이썬 연산자를 이용해도 미분을 자동으로 계산할 수 있기 때문에 DeZero는 '일반적인 프로그래밍'을 '미분 가능'하게 만들었다고 표현할 수도 있습니다. \n",
    "- 다음 단계부터는 더 고급 계산도 처리할 수 있도록 DeZero를 확장해갈 것입니다. "
   ]
  },
  {
   "cell_type": "code",
   "execution_count": null,
   "metadata": {},
   "outputs": [],
   "source": [
    "if '__file__' in globals():\n",
    "    import os, sys\n",
    "    sys.path.append(os.path.join(os.path.dirname(__file__), '..'))\n",
    "import numpy as np\n",
    "from dezero import Variable\n",
    "\n",
    "\n",
    "def sphere(x, y):\n",
    "    z = x ** 2 + y ** 2\n",
    "    return z\n",
    "\n",
    "\n",
    "def matyas(x, y):\n",
    "    z = 0.26 * (x ** 2 + y ** 2) - 0.48 * x * y\n",
    "    return z\n",
    "\n",
    "\n",
    "def goldstein(x, y):\n",
    "    z = (1 + (x + y + 1)**2 * (19 - 14*x + 3*x**2 - 14*y + 6*x*y + 3*y**2)) * \\\n",
    "        (30 + (2*x - 3*y)**2 * (18 - 32*x + 12*x**2 + 48*y - 36*x*y + 27*y**2))\n",
    "    return z\n",
    "\n",
    "\n",
    "x = Variable(np.array(1.0))\n",
    "y = Variable(np.array(1.0))\n",
    "z = goldstein(x, y)  # sphere(x, y) / matyas(x, y)\n",
    "z.backward()\n",
    "print(x.grad, y.grad)"
   ]
  },
  {
   "cell_type": "markdown",
   "metadata": {},
   "source": [
    "## 칼럼: Define_by_Run\n",
    "\n",
    "- 딥러닝 프레임워크는 동작 방식에 따라 2가지로 나눌 수 있습니다. \n",
    "\n",
    "### Define-and-Run(정적 계산 그래프 방식)\n",
    "\n",
    "- (사용자가) 계산그래프를 정의한 다음 (프레임워크는 주어진 그래프를 컴퓨터가 처리할 수 있는 형태로 변환하여) 데이터를 흘려보내는 방식\n",
    "\n",
    "![title](image/그림B-1.png)\n",
    "\n",
    "- 컴파일: 프레임워크는 계산 그래프의 정의를 변환하는 과정. \n",
    "- 컴파일 과정을 통해서 계산 그래프가 메모리상에 펼쳐지며, 실제 데이터를 흘려보낼 준비가 갖춰진다. \n",
    "- 딥러닝 프레임워크를 '미분 가능 프로그래밍(differentiable programming)'이라고도 함\n",
    "- 텐서플로, 카페, CNTK가 있음 (텐서플로 2.0부터는 Define-by-Run 방식을 도입함. DeZero도 Define_by_Run 방식임)\n",
    "\n",
    "#### 정적 계산 그래프의 단점\n",
    "\n",
    "- '도메인 특화 언어'(파이썬 위에서 동작하는 새로운 프로그래밍 언어)를 사용하여 계산을 정의함\n",
    "    - 프로그래머가 도메일 특화 언어를 새롭게 배워야 하는 부담이 생김\n",
    "- 디버깅이 어려움\n",
    "    - 프레임워크에서 컴파일을 거쳐 프레임워크만 이해하고 실행할 수 있는 표현 형식으로 변환되므로 파이썬 프로세서는 이 독자적인 표현방식을 이해할 수 없음\n",
    "    - 버그는 '데이터 흘려보낼 때' 발견되지만, 원인은 '계산 그래프 정의'에 있는 경우가 대부분이라 디버깅이 어려움\n",
    "    \n",
    "####  정적 계산 그래프의 장점\n",
    "\n",
    "- 가장 큰 장점은 성능임. 계산 그래프를 최적화 하면 성능도 따라서 최적화 됨\n",
    "- 계산 그래프 최적화는 계산 그래프 구조와 사용되는 연산을 효율적인 것으로 변환하는 형태로 이루어짐\n",
    "- 아래 최적화 버전에서는 곱셈과 덧셈을 한 번에 수행하는 연산을 사용함 (이 변환으로 두 개의 연산을 하나의 연산으로 축약하여 계산 시간이 단축됨)\n",
    "\n",
    "![title](image/그림B-2.png)\n",
    "\n",
    "\n",
    "- 데이터를 흘려보내기 전에 전체 계산 그래프가 손에 들어오므로 계산 그래프 전체를 고려해 최적화할 수 있음\n",
    "    - 신경망 학습은 '신경망을 한 번만 정의하고 정의된 신경망에 데이터를 여러 번 흘려보내는' 형태로 활용됨\n",
    "    - 따라서 신경망 구축과 최적화에 시간을 좀 더 들이면, 데이터를 반복해 흘려보내는 단계에서 시간을 절약할 수 있음\n",
    "- 어떻게 컴파일하느냐에 따라 다른 실행 파일로 변환될 수 있음\n",
    "    - 파이썬이 아닌 다른 환경에서도 데이터를 흘려보내는 것이 가능함(파이썬 자체가 주는 오버헤드가 사라지므로, IoT 기기처럼 자원이 부족한 에지 edge 전용 환경에서는 특히 중요한 특징임)\n",
    "- 학습을 여러 대의 컴퓨터에 분산해 수행하는 경우에도 유리함\n",
    "    - 계산 그래프 자체를 분할하여 여러 컴퓨터로 분배하는 시나리오는 사전에 계산 그래프가 구축되어 있어야만 가능하므로 정적 계산 그래프가 더 유리함"
   ]
  },
  {
   "cell_type": "markdown",
   "metadata": {},
   "source": [
    "### Define-by-Run(동적 계산 그래프 방식)\n",
    "\n",
    "- 데이터를 흘려보냄으로써 계산 그래프가 정의되는 방식\n",
    "- 데이터를 흘려보내기와 계산 그래프 구축이 동시에 이루어지는 것이 특징임\n",
    "    - DeZero의 경우 사용자가 데이터를 흘려보낼 때(일반적인 수치 계산을 수행할 때) 자동으로 계산 그래프를 구성하는 '연결(참조)'를 만듦\n",
    "    - 구현 수준에서는 연결리스트로 표현되는데, 그 이유는 계산이 끝난 후 해당 연결을 역박향으로 추적할 수 있기 때문임\n",
    "- 2015년 체이너에 의해 처음 만들어졌고, 파이토치, MXNet, DyNet, 텐서플로 (2.0 이상)에서 사용되는 방식\n",
    "\n",
    "#### 동적 계산 그래프의 장점\n",
    "\n",
    "- 프레임 워크 고유의 '도메일 특화 언어'를 배우지 않아도 됨\n",
    "- 계산 그래프를 '컴파일'하여 독자적인 데이터 구조로 변환할 필요도 없음\n",
    "- 일반적인 파이썬 프로그래밍으로 계산 그래프를 구축하고 실행할 수 있음 (파이썬의 if문이나 for문을 그대로 사용하여 계산 그래프를 만들 수 있음)\n",
    "- 디버깅도 항상 파이썬 프로그램으로 할 수 있으므로, 디버깅도 유리함 (pdb 같은 파이썬 디버거를 사용할 수 있음)\n"
   ]
  },
  {
   "cell_type": "markdown",
   "metadata": {},
   "source": [
    "### 두 방식의 비교\n",
    "\n",
    "![title](image/표B-1.png)\n",
    "\n",
    "- 성능이 중요할 때는 정적 계산 그래프 방식이, 사용성이 중요할 때는 동적 계산 그래프 방식이 유리함\n",
    "- 두 모드를 모두 지원하는 프레임워크도 많음\n",
    "    - 파이토치는 기본적으로 동적 계산 그래프 모드로 수행되지만, 정적 계산 그래프 모드도 제공함\n",
    "    - 체이너도 기본은 동적 계산 그래프 모드이지만, 정적 계산 그래프 모드로 전환할 수 있음\n",
    "    - 텐서플로 2.0도 역시 Eager Execution이라는 동적 계산 그래프가 표준으로 채택되지만, 필요 시 정적 계산 그래프로 전환 가능함\n",
    "- 최근에는 프로그래밍 언어 자체에서 자동 미분을 지원하려는 시도를 볼 수 있음\n",
    "    - Swift for TensorFlow가 대표적임. 스위프트 Swift라는 범용 프로그래밍 언어를 확장하여 (스위프트 컴파일러를 손질하여) 자동 미분 구조를 도입하려는 시도임\n",
    "    - 자동 미분을 프로그래밍 언어 차원에서 지원하므로 성능과 사용성이라는 두 마리 토끼를 모두 잡을 수 있을 것이라 기대됨   "
   ]
  },
  {
   "cell_type": "code",
   "execution_count": null,
   "metadata": {},
   "outputs": [],
   "source": []
  }
 ],
 "metadata": {
  "kernelspec": {
   "display_name": "aiffel",
   "language": "python",
   "name": "aiffel"
  },
  "language_info": {
   "codemirror_mode": {
    "name": "ipython",
    "version": 3
   },
   "file_extension": ".py",
   "mimetype": "text/x-python",
   "name": "python",
   "nbconvert_exporter": "python",
   "pygments_lexer": "ipython3",
   "version": "3.7.6"
  }
 },
 "nbformat": 4,
 "nbformat_minor": 4
}
