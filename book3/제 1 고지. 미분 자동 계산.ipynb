{
 "cells": [
  {
   "cell_type": "markdown",
   "metadata": {},
   "source": [
    "# 1. 상자로서의 변수\n",
    "## 1.1 변수란\n",
    "- 변수를 상자에 비유\n",
    "    - 상자와 데이터는 별개다\n",
    "    - 상자에는 데이터가 들어간다(대입 혹은 할당한다)\n",
    "    - 상자 속을 들여다보면 데이터를 알 수 있다(참조한다)\n",
    "![title](1-1.png)\n",
    "\n",
    "## 1.2 Variable 클래스 구현\n",
    "- 파이썬에서 클래스 이름의 첫 글자는 보통 대문자로 합니다. (코딩규칙: PEP8 https://www.python.org/dev/peps/pep-0008/)\n",
    "- Variable 클래스가 상자가 되도록 구현해 보자"
   ]
  },
  {
   "cell_type": "code",
   "execution_count": 6,
   "metadata": {},
   "outputs": [],
   "source": [
    "class Variable: # Variable 클래스를 상자로 사용함\n",
    "    def __init__(self, data):  # 초기화 함수 __init__에 주어진 인수를 인스턴스 변수 data에 대입\n",
    "        self.data = data  # 실제 데이터는 Variable의 data에 보관됨"
   ]
  },
  {
   "cell_type": "code",
   "execution_count": 7,
   "metadata": {},
   "outputs": [
    {
     "name": "stdout",
     "output_type": "stream",
     "text": [
      "1.0\n"
     ]
    }
   ],
   "source": [
    "import numpy as np\n",
    "\n",
    "data = np.array(1.0)\n",
    "x = Variable(data)  # Variable은 인스턴스이며, 실제 데이터는 x안에 담겨있음\n",
    "print(x.data)  # x는 데이터 자체가 아니라 데이터를 담은 상자임"
   ]
  },
  {
   "cell_type": "code",
   "execution_count": 8,
   "metadata": {},
   "outputs": [
    {
     "name": "stdout",
     "output_type": "stream",
     "text": [
      "2.0\n"
     ]
    }
   ],
   "source": [
    "x.data = np.array(2.0)  # Variable 클래스를 상자로 사용해서 새로운 데이터가 대입됨\n",
    "print(x.data)"
   ]
  },
  {
   "cell_type": "markdown",
   "metadata": {},
   "source": [
    "## 1.3[보충] 넘파이의 다차원 배열\n",
    "- 넘파이의 다차원 배열은 숫자 등의 원소가 일정하게 모여 있는 데이터 구조를 의미함\n",
    "- 다차원 배열에서 원소의 순서에는 방향이 있고, 이 방향을 **차원 dimension** 또는 **축 axis**이라고 함\n",
    "- 아래 그림에서 왼쪽부터 0차원 배열, 1차원 배열, 2차원 배열이 나오는데, 차례대로 **스칼라 scalar**, **벡터 vector**, **행렬 matrix**이라고 함\n",
    "- 다차원 배열을 **텐서 tensor**라고도 함. 왼쪽부터 **0차원 텐서**, **1차원 텐서**, **2차원 텐서**가 됨\n",
    "![title](1-2.png)"
   ]
  },
  {
   "cell_type": "code",
   "execution_count": 9,
   "metadata": {},
   "outputs": [
    {
     "data": {
      "text/plain": [
       "0"
      ]
     },
     "execution_count": 9,
     "metadata": {},
     "output_type": "execute_result"
    }
   ],
   "source": [
    "x = np.array(1) # 넘파이의 다차원 배열 클래스인 numpy.ndarray가 있는데, 이는 np.array 함수를 이용해 생성함\n",
    "x.ndim  # ndarray 클래스에는 ndim이라는 인스턴스 변수가 있음 \"number of dimensions\" 약자로 다차원 배열의 차원수를 리턴함"
   ]
  },
  {
   "cell_type": "code",
   "execution_count": 10,
   "metadata": {},
   "outputs": [
    {
     "data": {
      "text/plain": [
       "1"
      ]
     },
     "execution_count": 10,
     "metadata": {},
     "output_type": "execute_result"
    }
   ],
   "source": [
    "x = np.array([1, 2, 3])\n",
    "x.ndim"
   ]
  },
  {
   "cell_type": "code",
   "execution_count": 11,
   "metadata": {},
   "outputs": [],
   "source": [
    "x = np.array([[1, 2, 3],\n",
    "              [4, 5, 6]])"
   ]
  },
  {
   "cell_type": "code",
   "execution_count": 12,
   "metadata": {},
   "outputs": [
    {
     "data": {
      "text/plain": [
       "2"
      ]
     },
     "execution_count": 12,
     "metadata": {},
     "output_type": "execute_result"
    }
   ],
   "source": [
    "x.ndim"
   ]
  },
  {
   "cell_type": "markdown",
   "metadata": {},
   "source": [
    "- 벡터의 차원: 벡터의 원소 수 \n",
    "    - e.g. 3차원 벡터 : 벡터의 원소가 3개라는 뜻\n",
    "- 배열의 차원: (원소가 아닌) 축의 수 \n",
    "    - e.g. 3차원 배열: 배열의 축이 3개라는 뜻"
   ]
  },
  {
   "cell_type": "markdown",
   "metadata": {},
   "source": [
    "# 2. 변수를 낳는 함수\n",
    "- 함수는 단순한 Variable 클래스 상자를 마법의 상자로 바꾸는 장치\n",
    "\n",
    "## 2.1 함수란\n",
    "- 함수란 '어떤 변수로부터 다른 변수로의 대응 관계를 정한 것'\n",
    "- 변수는 ○로 함수는 □로 표시\n",
    "- 변수 ○와 함수 □ 모양의 노드들을 화살표로 연결해 계산 과정을 표현한 그림을 **계산 그래프 Computational Graph**라고 함\n",
    "- 컴퓨터 과학에서 그래프는 **노드 node**와 **에지 edge**로 구성된 데이터 구조를 의미함\n",
    "- 아래 화살표는 **방향이 있는 에지**에 해당함\n",
    "![title](2-1.png)"
   ]
  },
  {
   "cell_type": "markdown",
   "metadata": {},
   "source": [
    "## 2.2 Function 클래스 구현\n",
    "- 앞서 구현한 Variable 인스턴스를 변수로 다룰 수 있는 함수를 Function 클래스로 구현함\n",
    "- 여기서 주의할 부분\n",
    "    - Function 클래스는 Variable 인스턴스를 입력받아 Variable 인스턴스를 출력함\n",
    "    - Variable 인스턴스의 실제 데이터는 인스턴스 변수인 data에 있음"
   ]
  },
  {
   "cell_type": "code",
   "execution_count": 13,
   "metadata": {},
   "outputs": [],
   "source": [
    "class Function:\n",
    "    def __call__(self, input):  # __call__ 메서드의 인수 input은 Variable 인스턴스라고 가정한다.\n",
    "        x = input.data  # 실제 데이터는 input.data에 존재함. 여기서 데이터를 꺼낸다. \n",
    "        y = x ** 2  # 실제 계산\n",
    "        output = Variable(y)  # 계산 결과를 Variable 형태로, Variable '상자'에 담아서, 되돌린다.\n",
    "        return output"
   ]
  },
  {
   "cell_type": "markdown",
   "metadata": {},
   "source": [
    "## 2.3 Function 클래스 이용"
   ]
  },
  {
   "cell_type": "code",
   "execution_count": 14,
   "metadata": {},
   "outputs": [
    {
     "name": "stdout",
     "output_type": "stream",
     "text": [
      "<class '__main__.Variable'>\n",
      "100\n"
     ]
    }
   ],
   "source": [
    "x = Variable(np.array(10))\n",
    "f = Function()\n",
    "y = f(x)\n",
    "\n",
    "print(type(y))  # type() 함수는 객체의 클래스를 알려준다. y의 클래스는 Variable이며\n",
    "print(y.data)   # y의 데이터는 y.data에 저장되어 있다. "
   ]
  },
  {
   "cell_type": "markdown",
   "metadata": {},
   "source": [
    "- 앞으로 DeZero 함수는 다음의 2가지 사항을 충족하도록 구현하겠습니다.\n",
    "    - Function 클래스는 기반 클래스로서, 모든 함수에 공통되는 기능을 구현합니다. \n",
    "    - 구체적인 함수는 Function 클래스를 상속한 클래스에서 구현합니다. \n",
    "- 이를 위해 Function 클래스를 아래와 같이 수정합니다. "
   ]
  },
  {
   "cell_type": "code",
   "execution_count": 17,
   "metadata": {},
   "outputs": [],
   "source": [
    "class Function:\n",
    "    def __call__(self, input):\n",
    "        x = input.data               # (1) Variable에서 데이터 찾기\n",
    "        y = self.forward(x)          # (2) 구체적인 계산은 forward 메서드에서 한다. \n",
    "        output = Variable(y)         # (3) 계산 결과를 Variable에 포장하기\n",
    "        return output\n",
    "    def forward(self, x):            # (4) forward 메서드의 구체적인 로직은 하위 클래스에서 구현한다. \n",
    "        raise NotImplementedError()  # (5) Function 클래스의 forward 메서드를 직접 호출하면 예외를 발생시켜서 \n",
    "                                     #     '이 메서드는 상속해서 구현해야 한다'는 사실을 알려준다. "
   ]
  },
  {
   "cell_type": "code",
   "execution_count": 22,
   "metadata": {},
   "outputs": [],
   "source": [
    "class Square(Function):              # Function 클래스를 상속하여 입력값을 제공하는 클래스 Square를 구현한다. \n",
    "    def forward(self, x):            # Function 클래스의 __call__ 메서드는 그래도 계승되므로, \n",
    "        return x ** 2                # forward 메서드에 구체적인 계산 로직을 넣는 것만으로 구현이 끝난다. "
   ]
  },
  {
   "cell_type": "code",
   "execution_count": 23,
   "metadata": {},
   "outputs": [
    {
     "name": "stdout",
     "output_type": "stream",
     "text": [
      "<class '__main__.Variable'>\n",
      "100\n"
     ]
    }
   ],
   "source": [
    "x = Variable(np.array(10))\n",
    "f = Square()                         # Square 클래스는 Function 클래스를 상속하기 때문에 __call__ 메서드는 그대로 계승된다. \n",
    "y = f(x)\n",
    "print(type(y))\n",
    "print(y.data)"
   ]
  },
  {
   "cell_type": "markdown",
   "metadata": {},
   "source": [
    "# 3. 함수 연결\n",
    "## 3.1 Exp 함수 구현\n",
    "- 이번 단계에서는 또 다른 함수를 구현하고 여러 함수를 조합해 계산할 수 있게 한다. "
   ]
  },
  {
   "cell_type": "code",
   "execution_count": 24,
   "metadata": {},
   "outputs": [],
   "source": [
    "class Exp(Function):          # e는 자연로그 밑(base of the naturl logarithm)으로 \n",
    "    def forward(self, x):     # 2.718... 오일러의 수(Euler's number), 네이피어 상수(Napier's constant) 라고도 한다.\n",
    "        return np.exp(x)      # forward 메서드에 구체적인 계산 로직을 넣는 것만으로 구현이 끝난다. "
   ]
  },
  {
   "cell_type": "markdown",
   "metadata": {},
   "source": [
    "## 3.2 함수 연결\n",
    "- Funcion 클래스의 $__call__$ 메서드는 입력과 출력이 모두 Variable 인스턴스이므로 자연스럽게 함수들을 연이어 사용할 수 있습니다. \n",
    "- $y = (e^{x^2})^2$ 라는 계산을 다음 코드로 작성할 수 있습니다. "
   ]
  },
  {
   "cell_type": "code",
   "execution_count": 38,
   "metadata": {},
   "outputs": [
    {
     "name": "stdout",
     "output_type": "stream",
     "text": [
      "1.648721270700128\n"
     ]
    }
   ],
   "source": [
    "A = Squre()\n",
    "B = Exp()\n",
    "C = Squre()\n",
    "\n",
    "x = Variable(np.array(0.5))\n",
    "a = A(x)\n",
    "b = B(a)\n",
    "y = C(b)\n",
    "print(y.data)"
   ]
  },
  {
   "cell_type": "markdown",
   "metadata": {},
   "source": [
    "- 3개의 함수를 연이어 적용했습니다. \n",
    "- 중간에 등장하는 4개의 변수 x, a, b, y가 모두 Variable 인스턴스입니다. \n",
    "- Function 클래스의 $__call__$ 메서드의 입출력이 모두 Variable 인스턴스로 통일되어 있는 덕분에 \n",
    "- 이와 같이 여러 함수를 연속하여 적용할 수 있습니다. \n",
    "- 참고로 방금한 계산은 아래와 같이 함수와 변수가 교대로 늘어선 계산 그래프로 표현할 수 있습니다. \n",
    "![title](3-1.png)\n",
    "- 여러 함수를 순서대로 적용하여 만들어진 변환 전체를 큰 함수로 볼 수 있는데, \n",
    "- 이처럼 여러 함수로 구성된 함수를 **합성 함수(compisite funcion)** 라고 합니다. \n",
    "- 합성 함수를 구성하는 각 함수의 계산은 간단하더라도 연속으로 적용하면 더 복잡한 계산도 해낼 수 있다는 사실을 기억하세요\n",
    "- 일련의 계산을 계산 그래프로 보여준 이유는 무엇일까요?\n",
    "    - ***계산 그래프***를 이용하면 ***각 변수에 대한 미분을 효율적으로 계산***할 수 있기 때문입니다. (정확하게는 그럴 준비가 됩니다.)\n",
    "    - 변수별 미분을 계산하는 알고리즘이 바로 역전파입니다. \n",
    "    - 다음 단게부터는 역전파를 구현할 수 있도록 DeZero를 확장하겠습니다. "
   ]
  },
  {
   "cell_type": "markdown",
   "metadata": {},
   "source": [
    "# 4. 수치 미분\n",
    "- 지금까지 Variable 클래스와 Function 클래스를 구현했습니다. \n",
    "- 이 클래스들을 구현한 이유는 **미분을 자동으로 계산하기 위해서**입니다. \n",
    "- 이번 단계에서는 미분이 무엇인지 복습하고, **수치 미분**이라는 간단한 방법으로 미분을 계산해 보겠습니다. \n",
    "- 그런 다음 단계에서 **수치 미분을 대신하는 더 효율적인 알고리즘(역전파)를 구현**할 계획입니다. \n",
    "- 머신러닝 외에도 많은 분야에서 미분을 활용합니다. \n",
    "    - 유체 역학, 금융 공학, 기상 시뮬레이션, 엔지니어링 설계 최적화 등\n",
    "    - 이런 다양한 분야에서 자동 미분 계산 기능이 실제로 사용되고 있습니다. \n",
    "\n",
    "## 4.1 미분이란\n",
    "- 미분이란 변화율을 뜻합니다.\n",
    "    - 예를 들어 물체의 시간에 따른 위치 변화율(위치의 미분)은 속도가 됩니다. \n",
    "    - 시간에 대한 속도 변화율(속도의 미분)은 가속도에 해당합니다. \n",
    "    - 정확한 정의는 '극한으로 짧은 시간(순간)'에서의 변화량입니다. \n",
    "- 수식으로 표현하면 미분은 다음 식으로 정의됩니다. \n",
    "    - h가 한업이 0에 근접할 때의 두점을 지나는 직선의 기울기입니다. \n",
    "    - 폭 h를 한없이 0에 가깝게 줄여 x의 변화 비율을 구하면 그 값이 바로 y = f(x)의 미분입니다. \n",
    "    - y = f(x)가 어떤 구간에서 미분이 가능하다면 해당 구간의 '모든 x'에서 아래 식은 성립합니다. \n",
    "    - 따라서 f'(x)도 함수이며 f(x)의 **도함수**라고 합니다. \n",
    "![title](e4.1.png)\n",
    "![title](4-1.png)"
   ]
  },
  {
   "cell_type": "markdown",
   "metadata": {},
   "source": [
    "## 4.2 수치 미분 구현\n",
    "- 컴퓨터는 극한을 취할 수 없으니 h를 극한과 비슷한 값으로 대체하겠습니다.\n",
    "- 예를 들어 h = 0.0001과 같은 매우 작은 값을 이용하여 위 식을 계산합니다. \n",
    "- 이런 미세한 차이를 이용하여 함수의 변화량을 구하는 방법을 **수치 미분(numerical differentiation)** 이라고 합니다. \n",
    "- 수치 미분은 작은 값을 사용하여 '진정한 미분'을 근사합니다. \n",
    "- 따라서 값에 어쩔 수 없이 오차가 포함되는데, 이 근사 오차를 줄이는 방법으로는 **중앙 차분(centralized difference)** 이라는 것이 있습니다. \n",
    "- 중앙 차분은 f(x)와 f(x+h)의 차이를 구하는 대신 f(x-h)와 f(x+h)의 차이를 구합니다. \n",
    "- 아래 그림에서 파란 선에 해당합니다. \n",
    "- x와 x+h에서 기울기는 구하는 방법을 **전진 차분(forward difference)** 이라고 하는데, 중앙 차분이 상대적으로 오차가 작습니다. \n",
    "![title](4-2.png)\n",
    "- 중앙 차분을 이용해서 수치 미분을 구하는 함수를 구현해 봅시다. \n",
    "- **해석적 미분** 한다는 것은 $y=x^2$ 일 때 2이므로 x=2.0이면 미분값은 4.0이 되어야 한다. "
   ]
  },
  {
   "cell_type": "code",
   "execution_count": 27,
   "metadata": {},
   "outputs": [],
   "source": [
    "def numerical_diff(f, x, eps=1e-4):  # 첫번째 인수 f는 미분의 대상이 되는 함수, 앞에서 구현한 Function의 인스턴스이다. \n",
    "    x0 = Variable(x.data - eps)      # 두번째 인수 x는 미분을 계산하는 변수로, Variable 인스턴스이다. \n",
    "    x1 = Variable(x.data + eps)      # 세번째 인수 eps는 epsilon의 약자로서 아주 작은 양의 부동소수점값을 담는 변수이다. \n",
    "    y0 = f(x0)\n",
    "    y1 = f(x1)\n",
    "    return (y1.data - y0.data) / (2 * eps)"
   ]
  },
  {
   "cell_type": "code",
   "execution_count": 28,
   "metadata": {},
   "outputs": [
    {
     "name": "stdout",
     "output_type": "stream",
     "text": [
      "4.000000000004\n"
     ]
    }
   ],
   "source": [
    "f = Square()                         # Square 클래스를 대상으로 미분해 보겠다. \n",
    "x = Variable(np.array(2.0))          # y=x^2에서 x=2.0 일 때 수치 미분을 하면 4.0 근사값이 나왔다.\n",
    "dy = numerical_diff(f, x)\n",
    "print(dy)"
   ]
  },
  {
   "cell_type": "markdown",
   "metadata": {},
   "source": [
    "## 4.3 합성 함수의 미분\n",
    "- 합성함수 $y = (e^{x^2})^2$ 라는 계산에 대한 미분을 계산합니다. \n",
    "- 파이썬에서는 함수도 객체이므로 다른 함수의 인수로 전달할 수 있습니다. "
   ]
  },
  {
   "cell_type": "code",
   "execution_count": 31,
   "metadata": {},
   "outputs": [
    {
     "name": "stdout",
     "output_type": "stream",
     "text": [
      "3.2974426293330694\n"
     ]
    }
   ],
   "source": [
    "def f(x):\n",
    "    A = Square()\n",
    "    B = Exp()\n",
    "    C = Square()\n",
    "    return C(B(A(x)))\n",
    "\n",
    "x = Variable(np.array(0.5))\n",
    "dy = numerical_diff(f, x)\n",
    "print(dy)"
   ]
  },
  {
   "cell_type": "markdown",
   "metadata": {},
   "source": [
    "- 실행결과를 보면 미분한 겂이 3.297... 입니다. \n",
    "- x를 0.5에서 작은 값만큼 변화시키면 y는 작은 값의 3.297...배만큼 변한다는 의미이다. \n",
    "- 이상에서 우리는 미분을 '자동으로' 계산하는 데 성공했습니다. \n",
    "- 원하는 계산을 파이썬 코드로 표현한 다음(앞의 예에서 함수 f로 정의) 미분해 달라고 프로그램에 요구했습니다. \n",
    "- 이 방식대로 하면 아무리 복잡하게 조합된 함수라도 미분을 자동으로 계산할 수 있습니다. \n",
    "- 이제부터는 함수의 종류를 늘려가면서 어떠한 계산도 (미분 가능한 함수라면) 미분할 수 있습니다. \n",
    "- 그러나 안타깝게도 수치미분에는 문제가 있습니다. "
   ]
  },
  {
   "cell_type": "markdown",
   "metadata": {},
   "source": [
    "## 4.4 수치 미분의 문제점\n",
    "- 수치 미분의 결과에는 오차가 포함되어 있습니다. \n",
    "- 대부분이 경우에는 오차가 매우 작지만, 어떤 계산이냐에 따라 커질 수도 있습니다. \n",
    "- 수치 미분의 결과에 오차가 포함되기 쉬운 이유는 주로 **자리수 누락** 입니다. \n",
    "- **자리수 누락** 으로 유효 자릿수가 줄어들면서 오차가 포함되기 쉽습니다. \n",
    "- 수치 미분의 더 심각한 문제는 계산량이 많다는 것입니다. \n",
    "- 변수가 여러 개인 계산을 미분할 경우 변수 각각을 미분해야 하기 때문입니다. \n",
    "- 신경망에서 매개변수를 수백만 개 이상 사용하는 건 일도 아니므로 이 모두를 수치 미분으로 구하는 것은 현질적이지 않습니다. \n",
    "- 그래서 등장한 것이 바로 역전파입니다. \n",
    "- 수치 미분은 구현하기 쉽고 거의 정확한 값을 얻을 수 있습니다. \n",
    "- 이에 비해 역전파는 복잡한 알고리즘이라서 구현하면서 버그가 섞여 들어가기가 쉽습니다. \n",
    "- 그래서 역전파를 정확하게 구현했는지 확인하기 위해 수치 미분의 결과를 이용하곤 합니다. \n",
    "- 이를 **기울기 확인(gradient checking)** 이라고 하는데, 단순히 수치 미분 결과와 역전파의 결과를 비교하는 것입니다. "
   ]
  },
  {
   "cell_type": "markdown",
   "metadata": {},
   "source": [
    "# 5. 역전파 이론\n",
    "- 수치 미분을 이용해 미분을 계산할 수 있게 되었지만 수치 미분을 계산 비용과 정확도면에서 문제가 있습니다. \n",
    "- 지금이 바로 **역전파(backpropagation, 오차 역전파법)** 가 구세주로 등장할 시점입니다!\n",
    "- 역전파를 이용하면 미분을 효과적으로 계산할 수 있고, 결과값의 오차도 더 작습니다. \n",
    "- 이번 단계에서는 역전파 구현까지는 들어가지 않고 이론 설명에 집중하겠습니다. \n",
    "\n",
    "## 5.1 연쇄 법칙\n",
    "- 역전파를 이해하는 열쇠는 **연쇄 법칙(chain rule)** 입니다. \n",
    "- chain은 사슬이라는 뜻으로 여러 함수를 사슬처럼 연결하여 사용하는 모습을 빗댄 것입니다. \n",
    "- 연쇄 법칙에 따르면 합성 함수(여러 함수가 연결된 함수)의 미분은 구성 함수 각각을 미분한 후 곱한 것과 같습니다. \n",
    "- 구체적인 예를 하나 들어보죠. y = F(x)라는 함수가 있는데, 이 함수는 a = A(x), b = B(a), c = C(b)라는 세 함수로 구성되어 있습니다. \n",
    "- 계산 그래프로 그리면 아래와 같습니다. \n",
    "![title](5-1.png)\n",
    "- 이 때 x에 대한 y의 미분은 아래 식으로 표현할 수 있습니다. \n",
    "![title](e5.1.png)\n",
    "- x에 대한 y의 미분은 구성 함수 각각이 미분값을 모두 곱한 값과 같습니다. \n",
    "- 즉, 합성 함수의 미분은 각 함수의 국소적인 미분들로 분해할 수 있습니다. \n",
    "- 이것이 연쇄 법칙입니다. 또한 위 식은 다음과 같이 명시할 수도 있습니다. \n",
    "![title](e5.2.png)\n",
    "- $dy/dy$는 'y의 y에 대한' 즉, '자기 자신'에 대한 미분이라고 항상 1입니다. \n",
    "- 이 때 y가 작은 값만큼 변하면 자기 자신인 y도 당연히 같은 크기 만큼 변합니다. \n",
    "- 따라서 변화율은 어떤 함수의 경우에도 항상 1입니다. \n",
    "- 따라서 생략하는 것이 보통이지만, 이 책에서는 역전파를 구현할 때를 대비해서 포함하도록 하겠습니다. "
   ]
  },
  {
   "cell_type": "markdown",
   "metadata": {},
   "source": [
    "## 5.2 역전파 원리 도출\n",
    "- 합성 함수의 미분은 구성 함수들의 미분의 곱으로 분해할 수 있음을 뜻합니다. \n",
    "- '곱하는 순서'까지는 말해주지는 않지만, 사실 어떤 순서로 곱해도 상관없습니다. \n",
    "- 그러니 아래와 같이 출력에서 입력 방향으로(즉, 역방향으로) 순서대로 계산해 보겠습니다 \n",
    "\n",
    "![title](e5.3.png)\n",
    "\n",
    "- 위와 같이 출력에서 입력 방향으로, 즉 보통의 계산과는 반대 방향으로 미분을 계산합니다. \n",
    "- 이 때 위식이 계산 흐름은 아래 그림과 같습니다. \n",
    "\n",
    "![title](5-2.png)\n",
    "\n",
    "- 위에서 처럼 출력 y 에서 입력 x 방향으로 곱하면서 순서대로 미분하면 최종적으로 $dy/dx$가 구해집니다. \n",
    "- 계산 그래프는 아래처럼 됩니다. \n",
    "\n",
    "![title](5-3.png)\n",
    "\n",
    "- 위 계산 그래프를 잘 관찰해 봅시다. \n",
    "- 우선 $dy/dy(=1)$ 에서 시작하여 $dy/db$와 곱합니다. \n",
    "- 여기서 $dy/db$는 함수 y = C(b)의 미분입니다. \n",
    "- 따라서 함수 C의 도함수를 C'로 나타내면 $dy/db=C'(b)$ 라고 쓸 수 있습니다. \n",
    "- 마찬가지로 $db/da=B'(a)$ 이고 $da/dx=A'(x)$ 입니다. \n",
    "- 이에 따라 위 계산 그래프는 아래와 같이 단순화 할 수 있습니다. \n",
    "\n",
    "![title](5-4.png)\n",
    "\n",
    "- 위와 같이 도함수의 곱을 함수 노드 하나로 그릴 수 있습니다. \n",
    "- 이제 미분값이 전파되는 흐름이 명확해 집니다. \n",
    "- 위의 그림을 보면 'y의 각 변수에 대한 미분값'이, 즉 변수 y, b, a, x에 대한 미분값이 오른쪽에서 왼쪽으로 전파되는 것을 알 수 있습니다. \n",
    "- 이 것이 역전파입니다. \n",
    "- 여기서 중요한 점은 전파되는 데이터는 모두 'y의 미분값'이라는 것입니다. \n",
    "- 구체적으로 $dy/dy$, $dy/db$, $dy/da$, $dy/dx$ 처럼 모두 'y의 OO에 대한 미분값'이 전파되고 있습니다. \n",
    "- 계산 순서를 출력에서입력 방향으로 정한 이유는 y의 미분값을 전파하기 위해서입니다. \n",
    "- 즉 **y를 중요 요소** 로 대우하기 때문입니다. \n",
    "- 만약 입력에서 출력 방향으로 게산했다면 중요 요소는 입력인 x가 됩니다. \n",
    "- 이 경우 전파되는 값은 $dx/dx$ → $da/dx$ → $db/dx$ → $dy/dx$ 가 되어 x에 대한 미분을 전파하게 됩니다. \n",
    "- 머신 러닝은 주로 대량의 매개변수를 입력받아서 마지막에 **손실 함수(loss function)** 를 거쳐 출력을 내는 형태로 진행합니다. \n",
    "- 손실 함수의 출력은 (많은 경우) 단일한 스칼라 값이며, 이 값이 **'중요 요소'** 입니다. \n",
    "- 즉, 손실 함수의 각 매개변수에 대한 미분을 계산해야 합니다. \n",
    "- 이런 경우 미분값을 출력에서 입력 방향으로 전파하면 한 번의 전파만으로 모든 매개 변수에 대한 미분을 계산할 수 있습니다. \n",
    "- 이처럼 **계산이 효율적으로 이뤄지기 때문에 미분을 반대방향으로 전파하는 방식(역전파)를 이용하는 것** 입니다. "
   ]
  },
  {
   "cell_type": "markdown",
   "metadata": {},
   "source": [
    "## 5.3 계산 그래프로 살펴보기\n",
    "- 다음과 같이 통상적인 계산인 순전파 계산 그래프와 미분을 계산하는 역전파 계산 그래프를 위 아래로 나란히 놓고 살펴봅시다. \n",
    "\n",
    "![title](5-5.png)\n",
    "\n",
    "- 이렇게 비교하니 순전파와 역전파의 관계가 명확히 보입니다. \n",
    "- 예를 들어 순전파 시의 변수 a는 역전파 시의 미분 $dy/da$ 에 대응합니다. \n",
    "- 마찬가지로 변수 b와 $dy/db$가 대응하고, 변수 x와 $dy/dx$가 대응합니다. \n",
    "- 또한 함수에도 대응관계가 보입니다. \n",
    "- 함수 B는 역전파의 B'(a)에 대응하고 A는 A'(x)에 대응하는 식입니다. \n",
    "- 이렇게 변수는 '통상값'과 '미분값'이 존재하고, \n",
    "- 함수는 '통산 계산(순전파)'과 '미분값을 구하기 위한 계산(역전파)'이 존재하는 것으로 생각할 수 있습니다. \n",
    "- 이를 통해 역전파를 어떻게 구현할지 짐작해 볼 수 있을 것입니다. \n",
    "- 마지막으로 함수 노드 C'(b)에 주목해보죠.\n",
    "- y = C(b)라는 계산의 미분입니다만, 여기서 주의할 점은 C'(b)를 계산하려면 b값이 필요하다는 사실입니다. \n",
    "- 마찬가지로 B'(a)를 계산하려면 입력 a의 값이 필요합니다. \n",
    "- 무슨 말인고 하니, **역전파 시에는 순전파 시 이용한 데이터가 필요하다는 것** 입니다. \n",
    "- 따라서 역전파를 구현하려면 먼저 순전파를 하고, 이 때 각 함수가 입력 변수(앞의 예에서는 x, a, b)의 값을 기억해두지 않으면 안 됩니다. \n",
    "- 그런 다음에야 각 함수의 역전파를 계산할 수 있습니다. \n",
    "- 다음 단계에서 역전파를 구현하고 실제로 돌려보며 검증하겠습니다. "
   ]
  },
  {
   "cell_type": "markdown",
   "metadata": {},
   "source": [
    "# 6. 수동 역전파\n",
    "- 이전 단계에서 역전파의 구동 원리를 설명했습니다. \n",
    "- 이번 단계에서는 Variable과 Function 클래스를 확장하여 역전파를 이용한 미분을 구현하겠습니다. \n",
    "\n",
    "## 6.1 Variable 클래스 추가 구현\n",
    "- 역전파에 대응하는 Variable 클래스를 구현하겠습니다. \n",
    "- 그러기 위해 통상값(data)와 더불어 그에 대응하는 미분값(grad)도 저장하도록 확장합니다. \n",
    "- 벡터나 행렬 등 다변수에 대한 미분은 기울기(gradient)라고 합니다. \n",
    "- 그래서 Variable 클래스에 새로 추가한 grad 변수 이름은 gradient를 줄인 것입니다. "
   ]
  },
  {
   "cell_type": "code",
   "execution_count": 32,
   "metadata": {},
   "outputs": [],
   "source": [
    "class Variable:\n",
    "    def __init__(self, data):\n",
    "        self.data = data   # 인스턴스 변수인 data와 grad는 모두 넘파이의 다차원배열(ndarray)이라고 가정합니다. \n",
    "        self.grad = None   # grad라는 새로운 인스턴스 변수를 추가했습니다. \n",
    "                           # None으로 초가화해둔 다음, 나중에 실제로 역전파를 하면 미분값으로 계산하여 대입합니다. "
   ]
  },
  {
   "cell_type": "markdown",
   "metadata": {},
   "source": [
    "## 6.2 Function 클래스 추가 구현\n",
    "- Function 클래스를 알아 볼 차례입니다. \n",
    "- 이전 단계까지의 Function 클래스는 일반적인 계산을 하는 순전파(forward 메서드) 기능만 지원하는 상태입니다. \n",
    "- 이외에 다음 두 기능을 추가하겠습니다. \n",
    "    - 미분을 계산하는 역전파(backward 메서드)\n",
    "    - forward 메서드 호출 시 건네 받은 Variable 인스턴스 유지\n",
    "- 다음은 이 두 기능을 구현한 코드입니다. "
   ]
  },
  {
   "cell_type": "code",
   "execution_count": 33,
   "metadata": {},
   "outputs": [],
   "source": [
    "class Function:\n",
    "    def __call__(self, input):\n",
    "        x = input.data\n",
    "        y = self.forward(x)\n",
    "        output = Variable(y)\n",
    "        self.input = input   # 입력 변수를 기억(보관)한다.\n",
    "        return output\n",
    "    \n",
    "    def forward(self, x):\n",
    "        raise NotImplementedError()\n",
    "        \n",
    "    def backward(self, gy):\n",
    "        raise NotImplementedError()"
   ]
  },
  {
   "cell_type": "markdown",
   "metadata": {},
   "source": [
    "- 코드에서 보듯 $__call__$ 메서드에서 입력된 input을 인스턴스 변수인 self.input에 저장합니다. \n",
    "- 이렇게 해서 나중에 backward 메서드에서 함수(Function)에 입력한 변수(Variable 인스턴스)가 필요할 때 self.input에서 가져와 사용할 수 있습니다. "
   ]
  },
  {
   "cell_type": "markdown",
   "metadata": {},
   "source": [
    "## 6.3 Squer와 Exp 클래스 추가 구현\n",
    "- 이어서 Function을 상속한 구체적인 함수에서 역전파(backward)를 구현해 보겠습니다. \n",
    "- 첫번째 대상은 제곱을 계산하는 Square 클래스입니다. "
   ]
  },
  {
   "cell_type": "code",
   "execution_count": 34,
   "metadata": {},
   "outputs": [],
   "source": [
    "class Sqaure(Function):\n",
    "    def forward(self, x):\n",
    "        y = x ** 2\n",
    "        return y\n",
    "    \n",
    "    def backward(self, gy):\n",
    "        x = self.input.data\n",
    "        gx = 2 * x * gy\n",
    "        return gx"
   ]
  },
  {
   "cell_type": "markdown",
   "metadata": {},
   "source": [
    "- 이와 같이 역전파를 담당하는 backward 메서드를 추가했습니다. \n",
    "- 이 메서드의 인수 gy는 ndarry 인스턴스이며, 출력 쪽에서 전해지는 미분값을 전달하는 역할을 합니다. \n",
    "- 그리고 인수로 전달된 미분에 '$y=x^2$의 미분'을 곱한 값이 backward의 결과값이 됩니다. \n",
    "- 역전파에서는 이 결과값을 입력 쪽에 더 가까운 다음 함수로 전파해나갈 것입니다. \n",
    "- 이어서 $y=e^x$ 계산을 할 Exp 클래스입니다. 이 계산의 미분은 $dy/dx = e^x$ 이기 때문에 다음과 같이 구현할 수 있습니다. "
   ]
  },
  {
   "cell_type": "code",
   "execution_count": 35,
   "metadata": {},
   "outputs": [],
   "source": [
    "class Exp(Function):\n",
    "    def forward(self, x):\n",
    "        y = np.exp(x)\n",
    "        return y\n",
    "    \n",
    "    def backward(self, gy):\n",
    "        x = self.input. data\n",
    "        gx = np.exp(x) * gy\n",
    "        return gx"
   ]
  },
  {
   "cell_type": "markdown",
   "metadata": {},
   "source": [
    "## 6.4 역전파 구현\n",
    "- 이상으로 준비 작업이 끝났습니다. \n",
    "- 이번 절에서는 아래 그림에 해당하는 계산의 미분을 역전파로 계산해보겠습니다. \n",
    "![title](6-1.png)\n",
    "- 먼저 위 그림을 순전파하는 코드부터 보겠습니다. "
   ]
  },
  {
   "cell_type": "code",
   "execution_count": 36,
   "metadata": {},
   "outputs": [],
   "source": [
    "A = Sqaure()\n",
    "B = Exp()\n",
    "C = Sqaure()\n",
    "\n",
    "x = Variable(np.array(0.5))\n",
    "a = A(x)\n",
    "b = B(a)\n",
    "y = C(b)"
   ]
  },
  {
   "cell_type": "markdown",
   "metadata": {},
   "source": [
    "- 이어서 역전파로 y를 미분해보죠.\n",
    "- 순전파 때와는 반대 순서로 각 함수의 backward 메서드를 호출하면 됩니다. \n",
    "- 이 때 이루어지는 역전파를 계산 그래프로 그린 모습입니다. \n",
    "\n",
    "![title](6-2.png)\n",
    "\n",
    "- 위 그림을 보면 어떤 순서로 어느 함수의 backward 메서드를 호출하면 되는지 알 수 있습니다. \n",
    "- 또한 backward 메서드의 결과를 어느 변수의 grad로 설정하면 되는지도 알 수 있습니다. \n",
    "- 다음은 위 계산 그래프를 코드로 옮긴 것입니다. "
   ]
  },
  {
   "cell_type": "code",
   "execution_count": 37,
   "metadata": {},
   "outputs": [
    {
     "name": "stdout",
     "output_type": "stream",
     "text": [
      "3.297442541400256\n"
     ]
    }
   ],
   "source": [
    "y.grad = np.array(1.0)\n",
    "b.grad = C.backward(y.grad)\n",
    "a.grad = B.backward(b.grad)\n",
    "x.grad = A.backward(a.grad)\n",
    "print(x.grad)"
   ]
  },
  {
   "cell_type": "markdown",
   "metadata": {},
   "source": [
    "- 역전파는 $dy/dy=1$에서 시작합니다. \n",
    "- 따라서 출력 y의 미분값을 np.array(1.0)으로 설정합니다. \n",
    "- 그런 다음 C → B → A 순으로 backward 메서드를 호출하기만 하면 됩니다. \n",
    "- 이것으로 각 변수의 미분값이 구해집니다. \n",
    "- 위 결과값이 y의 x에 대한 미분값입니다. \n",
    "- 4단계에서 수치미분으로 구한 값과 결과가 거의 같음을 알 수 있습니다. \n",
    "- 역전파를 제대로 구현한 것입니다. (더 정확하게는 올바르게 구현했을 가능성이 큽니다.)\n",
    "- 이상이 역전파 구현입니다. \n",
    "- 제대로 동작하지만 역전파 순서(C → B → A)에 맞춰 호출하는 코드를 우리가 일일이 작성해 넣는 건 영 불편한 것 같습니다. \n",
    "- 그래서 다음 단계에서 이 작업을 자동화 하겠습니다. "
   ]
  },
  {
   "cell_type": "code",
   "execution_count": null,
   "metadata": {},
   "outputs": [],
   "source": []
  }
 ],
 "metadata": {
  "kernelspec": {
   "display_name": "aiffel",
   "language": "python",
   "name": "aiffel"
  },
  "language_info": {
   "codemirror_mode": {
    "name": "ipython",
    "version": 3
   },
   "file_extension": ".py",
   "mimetype": "text/x-python",
   "name": "python",
   "nbconvert_exporter": "python",
   "pygments_lexer": "ipython3",
   "version": "3.7.6"
  }
 },
 "nbformat": 4,
 "nbformat_minor": 4
}
